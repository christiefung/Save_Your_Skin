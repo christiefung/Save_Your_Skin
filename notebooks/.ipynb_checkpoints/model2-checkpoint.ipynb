{
 "cells": [
  {
   "cell_type": "code",
   "execution_count": 39,
   "metadata": {},
   "outputs": [
    {
     "name": "stdout",
     "output_type": "stream",
     "text": [
      "Requirement already satisfied: numpy in /Library/Frameworks/Python.framework/Versions/3.8/lib/python3.8/site-packages (1.18.3)\n",
      "Note: you may need to restart the kernel to use updated packages.\n"
     ]
    }
   ],
   "source": [
    "pip install numpy"
   ]
  },
  {
   "cell_type": "code",
   "execution_count": 1,
   "metadata": {},
   "outputs": [],
   "source": [
    "from PIL import Image\n",
    "\n",
    "import PIL\n",
    "import numpy as np\n",
    "import matplotlib.pyplot as plt\n",
    "import pandas as pd\n",
    "import glob\n",
    "import matplotlib.pyplot as plt\n",
    "import scipy"
   ]
  },
  {
   "cell_type": "code",
   "execution_count": 2,
   "metadata": {},
   "outputs": [],
   "source": [
    "%matplotlib inline  "
   ]
  },
  {
   "cell_type": "markdown",
   "metadata": {},
   "source": [
    "# Load the dataset\n",
    "- Load all the images\n",
    "- Make them into numpy array\n",
    "- assign label"
   ]
  },
  {
   "cell_type": "code",
   "execution_count": 3,
   "metadata": {},
   "outputs": [
    {
     "name": "stdout",
     "output_type": "stream",
     "text": [
      "Getting data in here: normal\n",
      "Getting data in here: dry\n",
      "Getting data in here: oily\n",
      "(2441, 64, 64)\n",
      "(2441,)\n"
     ]
    }
   ],
   "source": [
    "# parameters\n",
    "img_base_dir = '../data/images/'\n",
    "skin_types = {\n",
    "    'normal': 0,\n",
    "    'dry': 1,\n",
    "    'oily': 2}\n",
    "img_size = (64,64) \n",
    "\n",
    "imgs = []\n",
    "labels = []\n",
    "for skin_type in skin_types.keys():\n",
    "    print('Getting data in here:', skin_type)\n",
    "    \n",
    "    # define folder direction\n",
    "    folder = '%s/%s' %(img_base_dir, skin_type)\n",
    "    \n",
    "    # grab all images in the folder\n",
    "    files = glob.glob ('%s/*.jpg' %(folder)) \n",
    "\n",
    "    # for each image, load into numpy array\n",
    "    for f in files:\n",
    "        img = np.asarray(Image.open(f).resize(img_size))\n",
    "\n",
    "        # average color-pixel: 3 channel --> 1 channel\n",
    "        img = np.average(img, axis=2)\n",
    "        \n",
    "        # normalize each pixel from range 0-255 to 0-1\n",
    "        img /= 255\n",
    "        \n",
    "        # plot and check\n",
    "        # plt.imshow(img)\n",
    "        imgs.append(img)\n",
    "        labels.append(skin_types[skin_type])\n",
    "        \n",
    "# concat all the array in list\n",
    "# --> num_images x width x height\n",
    "imgs = np.stack(imgs)\n",
    "labels = np.asarray(labels)\n",
    "print(imgs.shape)\n",
    "print(labels.shape)"
   ]
  },
  {
   "cell_type": "markdown",
   "metadata": {},
   "source": [
    "# Preprocessing step\n",
    "1. Identify skin/face images only; remove other images\n",
    "2. Identify correct label using NLP (keyword search, sentiment analysis)\n",
    "    - raw test also need clean-up\n",
    "        - remove stop-word\n",
    "        - lemmitization\n",
    "        - contraction\n",
    "        - etc\n",
    "3. images preprocessing:\n",
    "    - zoom or not zoom\n",
    "    - remove reducdnat background\n",
    "    - sampling techniques to increases the number of traing samples (keras)"
   ]
  },
  {
   "cell_type": "markdown",
   "metadata": {},
   "source": [
    "# Split the data into train, validation, test sets\n",
    "- Simple way: train and test sets only\n",
    "- correct way: train, validation, and test sets"
   ]
  },
  {
   "cell_type": "code",
   "execution_count": 4,
   "metadata": {},
   "outputs": [],
   "source": [
    "from sklearn.model_selection import train_test_split"
   ]
  },
  {
   "cell_type": "code",
   "execution_count": 5,
   "metadata": {},
   "outputs": [
    {
     "name": "stdout",
     "output_type": "stream",
     "text": [
      "(1708, 64, 64)\n",
      "(733, 64, 64)\n"
     ]
    }
   ],
   "source": [
    "# Split data into train and test subsets\n",
    "X_train, X_test, y_train, y_test = train_test_split(\n",
    "    imgs, labels, test_size=0.3, shuffle=True, random_state=100)\n",
    "\n",
    "# check\n",
    "print(X_train.shape)\n",
    "print(X_test.shape)"
   ]
  },
  {
   "cell_type": "markdown",
   "metadata": {},
   "source": [
    "# Train a machine learning model for skin classification"
   ]
  },
  {
   "cell_type": "markdown",
   "metadata": {},
   "source": [
    "### Flatten the images so that it has num_images x num_features dimension"
   ]
  },
  {
   "cell_type": "code",
   "execution_count": 6,
   "metadata": {},
   "outputs": [
    {
     "name": "stdout",
     "output_type": "stream",
     "text": [
      "(1708, 4096)\n",
      "(733, 4096)\n"
     ]
    }
   ],
   "source": [
    "# flatten the images\n",
    "dimension = img_size[0] * img_size[1] # 64*64 = 4096\n",
    "X_train = X_train.reshape((X_train.shape[0], dimension))  #rmb to change this to 1, dimension for the test image\n",
    "X_test = X_test.reshape((X_test.shape[0], dimension))\n",
    "\n",
    "# check\n",
    "print(X_train.shape)\n",
    "print(X_test.shape)"
   ]
  },
  {
   "cell_type": "markdown",
   "metadata": {},
   "source": [
    "### Train ML model\n",
    "- Random forest probably v. slow, use linear version of SVM or logistic regression"
   ]
  },
  {
   "cell_type": "code",
   "execution_count": 7,
   "metadata": {},
   "outputs": [],
   "source": [
    "from sklearn import svm, metrics\n",
    "from sklearn.linear_model import LogisticRegression"
   ]
  },
  {
   "cell_type": "code",
   "execution_count": 8,
   "metadata": {},
   "outputs": [
    {
     "name": "stdout",
     "output_type": "stream",
     "text": [
      "[2 0 0 1 0 0 2 2 1 2 1 1 2 2 2 0 1 1 2 1 1 0 0 0 0 1 0 0 0 1 1 1 1 2 1 1 2\n",
      " 2 2 2 1 0 2 1 2 2 1 1 2 2 0 1 2 1 2 0 0 0 1 2 0 1 1 1 1 0 1 1 0 0 0 2 0 2\n",
      " 1 0 1 1 2 1 0 2 1 0 1 0 0 1 1 0 2 2 1 0 0 2 2 2 1 2 1 2 0 0 2 2 2 0 0 2 0\n",
      " 1 2 2 2 2 0 1 0 0 0 1 0 2 2 2 2 2 2 2 1 2 1 1 0 2 2 2 2 1 1 2 0 1 2 0 2 2\n",
      " 1 1 2 1 1 2 1 0 2 2 1 2 0 2 0 1 0 0 0 0 1 0 1 1 1 0 2 1 1 2 0 1 0 1 0 2 2\n",
      " 1 2 1 1 0 2 2 1 0 2 2 0 1 2 1 0 2 2 2 2 0 1 2 1 1 2 0 1 1 2 0 2 1 1 0 2 1\n",
      " 0 1 1 1 1 0 1 1 0 2 2 2 1 1 2 2 1 0 2 0 2 1 2 2 0 0 1 1 0 1 1 1 2 2 0 0 0\n",
      " 1 1 2 2 2 0 0 1 2 2 0 0 2 2 1 0 2 1 0 2 1 0 1 0 0 2 2 2 1 1 0 0 1 1 1 2 1\n",
      " 2 0 0 2 1 2 1 2 1 1 0 1 0 2 0 1 0 2 0 0 2 1 1 2 1 2 1 0 2 0 0 1 0 1 2 0 2\n",
      " 2 1 2 2 0 1 2 2 2 2 2 0 2 2 0 1 2 1 0 2 0 1 1 2 0 1 2 0 1 1 1 0 2 2 2 2 1\n",
      " 2 1 2 1 0 1 1 2 0 1 0 2 1 0 2 2 1 1 1 1 1 1 1 1 0 1 0 0 0 2 1 0 1 2 1 2 1\n",
      " 0 1 1 1 1 2 1 0 0 1 2 1 0 1 0 1 2 0 2 2 0 1 0 1 2 0 1 2 0 0 1 1 2 0 0 0 2\n",
      " 1 1 2 0 1 1 2 1 2 0 2 2 0 1 2 1 0 2 0 1 0 0 2 2 0 2 1 0 2 1 1 1 1 1 1 2 2\n",
      " 2 2 1 2 2 2 2 1 2 2 0 2 1 1 2 0 1 1 0 2 2 1 1 0 2 0 1 1 2 0 1 1 1 2 1 1 1\n",
      " 2 1 2 0 0 1 1 0 0 1 2 2 1 1 1 0 0 0 0 0 0 1 1 2 1 1 2 0 2 0 2 0 2 2 2 2 1\n",
      " 1 0 2 2 1 0 2 2 0 2 1 2 0 0 2 1 1 0 1 1 2 2 2 2 2 2 1 1 2 0 0 2 2 2 2 1 2\n",
      " 0 2 0 1 2 0 0 2 2 0 2 2 2 0 2 0 2 0 2 1 1 1 2 1 1 1 2 2 2 1 1 1 2 0 0 0 1\n",
      " 1 1 2 2 0 1 2 2 2 0 0 1 2 2 1 1 1 2 1 2 0 1 0 1 0 2 2 2 1 2 0 2 1 1 1 1 2\n",
      " 2 1 2 2 1 1 2 2 2 1 1 1 2 0 1 1 2 2 2 1 0 2 2 1 2 0 0 2 0 1 1 1 1 0 1 1 0\n",
      " 0 2 0 0 1 0 2 2 2 0 2 2 0 2 0 1 2 2 1 2 2 1 2 1 0 2 2 0 1 1]\n",
      "[[2.54366353e-02 9.30445873e-02 8.81518777e-01]\n",
      " [8.92652391e-01 6.40037442e-03 1.00947234e-01]\n",
      " [4.81594855e-01 3.28717347e-01 1.89687798e-01]\n",
      " ...\n",
      " [7.57412527e-01 1.98499050e-01 4.40884230e-02]\n",
      " [3.33819569e-01 4.01768938e-01 2.64411494e-01]\n",
      " [8.94989187e-04 9.63580661e-01 3.55243501e-02]]\n"
     ]
    },
    {
     "name": "stderr",
     "output_type": "stream",
     "text": [
      "/Library/Frameworks/Python.framework/Versions/3.8/lib/python3.8/site-packages/sklearn/linear_model/_logistic.py:938: ConvergenceWarning: lbfgs failed to converge (status=1):\n",
      "STOP: TOTAL NO. of ITERATIONS REACHED LIMIT.\n",
      "\n",
      "Increase the number of iterations (max_iter) or scale the data as shown in:\n",
      "    https://scikit-learn.org/stable/modules/preprocessing.html\n",
      "Please also refer to the documentation for alternative solver options:\n",
      "    https://scikit-learn.org/stable/modules/linear_model.html#logistic-regression\n",
      "  n_iter_i = _check_optimize_result(\n"
     ]
    }
   ],
   "source": [
    "# Create a support vector classifier\n",
    "clf = LogisticRegression()\n",
    "\n",
    "# train\n",
    "clf.fit(X_train, y_train)\n",
    "\n",
    "# predict\n",
    "preds = clf.predict(X_test)\n",
    "pred_probs = clf.predict_proba(X_test)\n",
    "print(preds)\n",
    "print(pred_probs)"
   ]
  },
  {
   "cell_type": "markdown",
   "metadata": {},
   "source": [
    "### Evaluation"
   ]
  },
  {
   "cell_type": "code",
   "execution_count": 9,
   "metadata": {},
   "outputs": [],
   "source": [
    "from sklearn.metrics import confusion_matrix, accuracy_score, precision_score, recall_score\n"
   ]
  },
  {
   "cell_type": "code",
   "execution_count": 10,
   "metadata": {},
   "outputs": [
    {
     "name": "stdout",
     "output_type": "stream",
     "text": [
      "[[ 47 101  98]\n",
      " [ 74  55 118]\n",
      " [ 79 107  54]]\n",
      "0.21282401091405184\n",
      "0.21282401091405184\n",
      "0.21282401091405184\n"
     ]
    }
   ],
   "source": [
    "cm = confusion_matrix(y_test, preds)\n",
    "\n",
    "# check\n",
    "print(cm)\n",
    "print(accuracy_score(y_test, preds))\n",
    "print(precision_score(y_test,preds, average='micro'))\n",
    "print(recall_score(y_test,preds, average='micro'))"
   ]
  },
  {
   "cell_type": "markdown",
   "metadata": {},
   "source": [
    "# Save the model"
   ]
  },
  {
   "cell_type": "code",
   "execution_count": 11,
   "metadata": {},
   "outputs": [],
   "source": [
    "import pickle"
   ]
  },
  {
   "cell_type": "code",
   "execution_count": 12,
   "metadata": {},
   "outputs": [],
   "source": [
    "fn = 'lr_skin_classification'\n",
    "model_dir = '../models'\n",
    "\n",
    "# save\n",
    "with open('%s/%s.pkl' %(model_dir, fn), 'wb') as f:\n",
    "    pickle.dump(clf, f)"
   ]
  },
  {
   "cell_type": "markdown",
   "metadata": {},
   "source": [
    "# Load the model"
   ]
  },
  {
   "cell_type": "code",
   "execution_count": 13,
   "metadata": {},
   "outputs": [
    {
     "name": "stdout",
     "output_type": "stream",
     "text": [
      "LogisticRegression(C=1.0, class_weight=None, dual=False, fit_intercept=True,\n",
      "                   intercept_scaling=1, l1_ratio=None, max_iter=100,\n",
      "                   multi_class='auto', n_jobs=None, penalty='l2',\n",
      "                   random_state=None, solver='lbfgs', tol=0.0001, verbose=0,\n",
      "                   warm_start=False)\n"
     ]
    }
   ],
   "source": [
    "fn = 'lr_skin_classification'\n",
    "model_dir = '../models'\n",
    "\n",
    "# save\n",
    "with open('%s/%s.pkl' %(model_dir, fn), 'rb') as f:\n",
    "    model = pickle.load(f)\n",
    "    \n",
    "# check\n",
    "print(model)"
   ]
  },
  {
   "cell_type": "code",
   "execution_count": 29,
   "metadata": {},
   "outputs": [],
   "source": [
    "# label prediction\n",
    "array = model.predict(X_test)"
   ]
  },
  {
   "cell_type": "code",
   "execution_count": 22,
   "metadata": {},
   "outputs": [],
   "source": [
    "# probability prediction\n",
    "array2 = model.predict_proba(X_test)"
   ]
  },
  {
   "cell_type": "code",
   "execution_count": 30,
   "metadata": {},
   "outputs": [],
   "source": [
    "result2 = array2[0]"
   ]
  },
  {
   "cell_type": "markdown",
   "metadata": {},
   "source": [
    "# Make a single prediction"
   ]
  },
  {
   "cell_type": "code",
   "execution_count": 50,
   "metadata": {},
   "outputs": [],
   "source": [
    "image_size = (64, 64)\n",
    "image = np.asarray(Image.open('../data/dry_extra/dry_skin_B007E9F86Q_pid633_0.jpg').resize(image_size))\n",
    "image = np.average(image, axis=2)\n",
    "image /= 255\n",
    "dimension = image_size[0] * image_size[1]\n",
    "image = image.reshape(1, dimension)"
   ]
  },
  {
   "cell_type": "code",
   "execution_count": 52,
   "metadata": {},
   "outputs": [],
   "source": [
    "array = model.predict(image)"
   ]
  },
  {
   "cell_type": "code",
   "execution_count": 57,
   "metadata": {},
   "outputs": [
    {
     "name": "stdout",
     "output_type": "stream",
     "text": [
      "Label: Normal\n"
     ]
    }
   ],
   "source": [
    "if array == 0:\n",
    "    print(\"Label: Normal\")\n",
    "elif array == 1:\n",
    "    print(\"Label: Dry\")\n",
    "elif array == 2:\n",
    "    print(\"Label: Oily\")"
   ]
  }
 ],
 "metadata": {
  "kernelspec": {
   "display_name": "Python 3",
   "language": "python",
   "name": "python3"
  },
  "language_info": {
   "codemirror_mode": {
    "name": "ipython",
    "version": 3
   },
   "file_extension": ".py",
   "mimetype": "text/x-python",
   "name": "python",
   "nbconvert_exporter": "python",
   "pygments_lexer": "ipython3",
   "version": "3.8.2"
  }
 },
 "nbformat": 4,
 "nbformat_minor": 4
}
