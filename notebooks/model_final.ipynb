{
 "cells": [
  {
   "cell_type": "code",
   "execution_count": 1,
   "metadata": {},
   "outputs": [
    {
     "name": "stderr",
     "output_type": "stream",
     "text": [
      "Using TensorFlow backend.\n"
     ]
    }
   ],
   "source": [
    "%matplotlib inline\n",
    "\n",
    "from PIL import Image\n",
    "from keras.preprocessing.image import ImageDataGenerator\n",
    "from numpy import asarray\n",
    "\n",
    "import imutils\n",
    "import numpy as np\n",
    "import argparse\n",
    "import cv2\n",
    "import glob\n",
    "import scipy\n",
    "import matplotlib.pyplot as plt\n",
    "import os\n",
    "import tensorflow as tf\n",
    "import imageio\n",
    "import os\n"
   ]
  },
  {
   "cell_type": "code",
   "execution_count": 2,
   "metadata": {},
   "outputs": [],
   "source": [
    "# To avoid an operating system issue\n",
    "os.environ['KMP_DUPLICATE_LIB_OK']='True'"
   ]
  },
  {
   "cell_type": "markdown",
   "metadata": {},
   "source": [
    "# Basic CNN\n",
    "- Train a basic CNN for skin type classifiction\n",
    "- reference:\n",
    "    - https://towardsdatascience.com/keras-data-generators-and-how-to-use-them-b69129ed779c\n",
    "    - https://blog.keras.io/building-powerful-image-classification-models-using-very-little-data.html\n",
    "- rmb data in ../data/recommendation/train  ../data/recommendation/validation\n",
    "    - then each in subfolder: oily/, normal/, and dry/\n",
    "    - 70:30"
   ]
  },
  {
   "cell_type": "markdown",
   "metadata": {},
   "source": [
    "### Create generator to perform data augmentation \n",
    "- To enchance the amount of data for training"
   ]
  },
  {
   "cell_type": "code",
   "execution_count": null,
   "metadata": {},
   "outputs": [],
   "source": [
    "train_dir = '../data/recommendation/train'\n",
    "val_dir = '../data/recommendation/validation'\n",
    "\n",
    "train_datagen = ImageDataGenerator(\n",
    "    rescale=1./255,\n",
    "    shear_range=0.2,\n",
    "    zoom_range=0.2,\n",
    "    horizontal_flip=True)\n",
    "\n",
    "# validation generator; no need for augmentation\n",
    "val_datagen = ImageDataGenerator(rescale = 1./255)\n",
    "\n",
    "# Define the datasets\n",
    "training_set = train_datagen.flow_from_directory(train_dir,\n",
    "                                                 target_size=(64, 64),\n",
    "                                                 batch_size=32,\n",
    "                                                 class_mode='categorical')\n",
    "val_set = val_datagen.flow_from_directory(val_dir,\n",
    "                                            target_size=(64, 64),\n",
    "                                            batch_size=32,\n",
    "                                            class_mode='categorical')\n"
   ]
  },
  {
   "cell_type": "code",
   "execution_count": 4,
   "metadata": {},
   "outputs": [
    {
     "data": {
      "text/plain": [
       "{'dry': 0, 'normal': 1, 'oily': 2}"
      ]
     },
     "execution_count": 4,
     "metadata": {},
     "output_type": "execute_result"
    }
   ],
   "source": [
    "# check the classes\n",
    "training_set.class_indices"
   ]
  },
  {
   "cell_type": "markdown",
   "metadata": {},
   "source": [
    "## Define and train a basic CNN model\n",
    "- Follow MNIST convnet: https://keras.io/examples/vision/mnist_convnet/"
   ]
  },
  {
   "cell_type": "code",
   "execution_count": 17,
   "metadata": {},
   "outputs": [],
   "source": [
    "from tensorflow import keras\n",
    "from tensorflow.keras import layers\n",
    "from tensorflow.keras.callbacks import ModelCheckpoint, EarlyStopping\n",
    "#from keras.callbacks import ModelCheckpoint, EarlyStopping\n",
    "import numpy as np\n",
    "import tensorflow as tf\n",
    "import os\n",
    "import random\n",
    "\n",
    "# https://stackoverflow.com/questions/32419510/how-to-get-reproducible-results-in-keras\n",
    "# for reproducible results\n",
    "tf.random.set_seed(10)\n",
    "np.random.seed(10) \n",
    "random.seed(10)\n",
    "os.environ['PYTHONHASHSEED']=str(10)"
   ]
  },
  {
   "cell_type": "code",
   "execution_count": 18,
   "metadata": {
    "scrolled": true
   },
   "outputs": [
    {
     "name": "stdout",
     "output_type": "stream",
     "text": [
      "Model: \"sequential_3\"\n",
      "_________________________________________________________________\n",
      "Layer (type)                 Output Shape              Param #   \n",
      "=================================================================\n",
      "conv2d_6 (Conv2D)            (None, 62, 62, 16)        448       \n",
      "_________________________________________________________________\n",
      "max_pooling2d_6 (MaxPooling2 (None, 31, 31, 16)        0         \n",
      "_________________________________________________________________\n",
      "conv2d_7 (Conv2D)            (None, 29, 29, 32)        4640      \n",
      "_________________________________________________________________\n",
      "max_pooling2d_7 (MaxPooling2 (None, 14, 14, 32)        0         \n",
      "_________________________________________________________________\n",
      "flatten_3 (Flatten)          (None, 6272)              0         \n",
      "_________________________________________________________________\n",
      "dropout_3 (Dropout)          (None, 6272)              0         \n",
      "_________________________________________________________________\n",
      "dense_3 (Dense)              (None, 3)                 18819     \n",
      "=================================================================\n",
      "Total params: 23,907\n",
      "Trainable params: 23,907\n",
      "Non-trainable params: 0\n",
      "_________________________________________________________________\n"
     ]
    }
   ],
   "source": [
    "# Parameters\n",
    "num_classes = 3\n",
    "input_shape = (64,64,3)\n",
    "\n",
    "# Define the model\n",
    "model = keras.Sequential(\n",
    "    [\n",
    "        keras.Input(shape=input_shape),\n",
    "        layers.Conv2D(16, kernel_size=(3, 3), activation=\"relu\"),\n",
    "        layers.MaxPooling2D(pool_size=(2, 2)),\n",
    "        layers.Conv2D(32, kernel_size=(3, 3), activation=\"relu\"),\n",
    "        layers.MaxPooling2D(pool_size=(2, 2)),\n",
    "        layers.Flatten(),\n",
    "        layers.Dropout(0.5),\n",
    "        layers.Dense(num_classes, activation=\"softmax\"),\n",
    "    ]\n",
    ")\n",
    "\n",
    "model.summary()"
   ]
  },
  {
   "cell_type": "code",
   "execution_count": 19,
   "metadata": {},
   "outputs": [],
   "source": [
    "# Define the model check point to keep track of model performance\n",
    "cb_checkpointer = ModelCheckpoint(filepath=\"../models/checkpoint/basic_cnn_epoch{epoch:02d}-val_acc{val_accuracy:.2f}.h5\", \n",
    "                               monitor = 'val_accuracy',\n",
    "                               verbose=1, \n",
    "                               save_best_only=True,\n",
    "                               mode='max'\n",
    "                              )\n",
    "\n",
    "# Define the early-stopping callback to stop the model training when there is no improvement on the model\n",
    "# Stop after no improvement in consective 5 epochs\n",
    "# https://www.tensorflow.org/api_docs/python/tf/keras/callbacks/EarlyStopping\n",
    "cb_earlystop = EarlyStopping(monitor='val_loss', patience=5, verbose=0)\n"
   ]
  },
  {
   "cell_type": "code",
   "execution_count": 9,
   "metadata": {
    "scrolled": true
   },
   "outputs": [
    {
     "ename": "AttributeError",
     "evalue": "'ModelCheckpoint' object has no attribute '_implements_train_batch_hooks'",
     "output_type": "error",
     "traceback": [
      "\u001b[0;31m---------------------------------------------------------------------------\u001b[0m",
      "\u001b[0;31mAttributeError\u001b[0m                            Traceback (most recent call last)",
      "\u001b[0;32m<ipython-input-9-f548f69edccd>\u001b[0m in \u001b[0;36m<module>\u001b[0;34m\u001b[0m\n\u001b[1;32m      9\u001b[0m \u001b[0;34m\u001b[0m\u001b[0m\n\u001b[1;32m     10\u001b[0m \u001b[0;31m# Train (fit_generator will be depreciated, can use fit() directly)\u001b[0m\u001b[0;34m\u001b[0m\u001b[0;34m\u001b[0m\u001b[0;34m\u001b[0m\u001b[0m\n\u001b[0;32m---> 11\u001b[0;31m hist = model.fit(training_set,\n\u001b[0m\u001b[1;32m     12\u001b[0m                   \u001b[0mepochs\u001b[0m\u001b[0;34m=\u001b[0m\u001b[0mnb_epochs\u001b[0m\u001b[0;34m,\u001b[0m\u001b[0;34m\u001b[0m\u001b[0;34m\u001b[0m\u001b[0m\n\u001b[1;32m     13\u001b[0m                   \u001b[0mcallbacks\u001b[0m \u001b[0;34m=\u001b[0m \u001b[0;34m[\u001b[0m\u001b[0mcb_checkpointer\u001b[0m\u001b[0;34m,\u001b[0m \u001b[0mcb_earlystop\u001b[0m\u001b[0;34m]\u001b[0m\u001b[0;34m,\u001b[0m\u001b[0;34m\u001b[0m\u001b[0;34m\u001b[0m\u001b[0m\n",
      "\u001b[0;32m/Library/Frameworks/Python.framework/Versions/3.8/lib/python3.8/site-packages/tensorflow/python/keras/engine/training.py\u001b[0m in \u001b[0;36m_method_wrapper\u001b[0;34m(self, *args, **kwargs)\u001b[0m\n\u001b[1;32m     64\u001b[0m   \u001b[0;32mdef\u001b[0m \u001b[0m_method_wrapper\u001b[0m\u001b[0;34m(\u001b[0m\u001b[0mself\u001b[0m\u001b[0;34m,\u001b[0m \u001b[0;34m*\u001b[0m\u001b[0margs\u001b[0m\u001b[0;34m,\u001b[0m \u001b[0;34m**\u001b[0m\u001b[0mkwargs\u001b[0m\u001b[0;34m)\u001b[0m\u001b[0;34m:\u001b[0m\u001b[0;34m\u001b[0m\u001b[0;34m\u001b[0m\u001b[0m\n\u001b[1;32m     65\u001b[0m     \u001b[0;32mif\u001b[0m \u001b[0;32mnot\u001b[0m \u001b[0mself\u001b[0m\u001b[0;34m.\u001b[0m\u001b[0m_in_multi_worker_mode\u001b[0m\u001b[0;34m(\u001b[0m\u001b[0;34m)\u001b[0m\u001b[0;34m:\u001b[0m  \u001b[0;31m# pylint: disable=protected-access\u001b[0m\u001b[0;34m\u001b[0m\u001b[0;34m\u001b[0m\u001b[0m\n\u001b[0;32m---> 66\u001b[0;31m       \u001b[0;32mreturn\u001b[0m \u001b[0mmethod\u001b[0m\u001b[0;34m(\u001b[0m\u001b[0mself\u001b[0m\u001b[0;34m,\u001b[0m \u001b[0;34m*\u001b[0m\u001b[0margs\u001b[0m\u001b[0;34m,\u001b[0m \u001b[0;34m**\u001b[0m\u001b[0mkwargs\u001b[0m\u001b[0;34m)\u001b[0m\u001b[0;34m\u001b[0m\u001b[0;34m\u001b[0m\u001b[0m\n\u001b[0m\u001b[1;32m     67\u001b[0m \u001b[0;34m\u001b[0m\u001b[0m\n\u001b[1;32m     68\u001b[0m     \u001b[0;31m# Running inside `run_distribute_coordinator` already.\u001b[0m\u001b[0;34m\u001b[0m\u001b[0;34m\u001b[0m\u001b[0;34m\u001b[0m\u001b[0m\n",
      "\u001b[0;32m/Library/Frameworks/Python.framework/Versions/3.8/lib/python3.8/site-packages/tensorflow/python/keras/engine/training.py\u001b[0m in \u001b[0;36mfit\u001b[0;34m(self, x, y, batch_size, epochs, verbose, callbacks, validation_split, validation_data, shuffle, class_weight, sample_weight, initial_epoch, steps_per_epoch, validation_steps, validation_batch_size, validation_freq, max_queue_size, workers, use_multiprocessing)\u001b[0m\n\u001b[1;32m    817\u001b[0m       \u001b[0;31m# Container that configures and calls `tf.keras.Callback`s.\u001b[0m\u001b[0;34m\u001b[0m\u001b[0;34m\u001b[0m\u001b[0;34m\u001b[0m\u001b[0m\n\u001b[1;32m    818\u001b[0m       \u001b[0;32mif\u001b[0m \u001b[0;32mnot\u001b[0m \u001b[0misinstance\u001b[0m\u001b[0;34m(\u001b[0m\u001b[0mcallbacks\u001b[0m\u001b[0;34m,\u001b[0m \u001b[0mcallbacks_module\u001b[0m\u001b[0;34m.\u001b[0m\u001b[0mCallbackList\u001b[0m\u001b[0;34m)\u001b[0m\u001b[0;34m:\u001b[0m\u001b[0;34m\u001b[0m\u001b[0;34m\u001b[0m\u001b[0m\n\u001b[0;32m--> 819\u001b[0;31m         callbacks = callbacks_module.CallbackList(\n\u001b[0m\u001b[1;32m    820\u001b[0m             \u001b[0mcallbacks\u001b[0m\u001b[0;34m,\u001b[0m\u001b[0;34m\u001b[0m\u001b[0;34m\u001b[0m\u001b[0m\n\u001b[1;32m    821\u001b[0m             \u001b[0madd_history\u001b[0m\u001b[0;34m=\u001b[0m\u001b[0;32mTrue\u001b[0m\u001b[0;34m,\u001b[0m\u001b[0;34m\u001b[0m\u001b[0;34m\u001b[0m\u001b[0m\n",
      "\u001b[0;32m/Library/Frameworks/Python.framework/Versions/3.8/lib/python3.8/site-packages/tensorflow/python/keras/callbacks.py\u001b[0m in \u001b[0;36m__init__\u001b[0;34m(self, callbacks, add_history, add_progbar, model, **params)\u001b[0m\n\u001b[1;32m    228\u001b[0m     \u001b[0;31m# will cause async eager to block on each batch.\u001b[0m\u001b[0;34m\u001b[0m\u001b[0;34m\u001b[0m\u001b[0;34m\u001b[0m\u001b[0m\n\u001b[1;32m    229\u001b[0m     \u001b[0;31m# pylint: disable=protected-access\u001b[0m\u001b[0;34m\u001b[0m\u001b[0;34m\u001b[0m\u001b[0;34m\u001b[0m\u001b[0m\n\u001b[0;32m--> 230\u001b[0;31m     self._should_call_train_batch_hooks = any(\n\u001b[0m\u001b[1;32m    231\u001b[0m         cb._implements_train_batch_hooks() for cb in self.callbacks)\n\u001b[1;32m    232\u001b[0m     self._should_call_test_batch_hooks = any(\n",
      "\u001b[0;32m/Library/Frameworks/Python.framework/Versions/3.8/lib/python3.8/site-packages/tensorflow/python/keras/callbacks.py\u001b[0m in \u001b[0;36m<genexpr>\u001b[0;34m(.0)\u001b[0m\n\u001b[1;32m    229\u001b[0m     \u001b[0;31m# pylint: disable=protected-access\u001b[0m\u001b[0;34m\u001b[0m\u001b[0;34m\u001b[0m\u001b[0;34m\u001b[0m\u001b[0m\n\u001b[1;32m    230\u001b[0m     self._should_call_train_batch_hooks = any(\n\u001b[0;32m--> 231\u001b[0;31m         cb._implements_train_batch_hooks() for cb in self.callbacks)\n\u001b[0m\u001b[1;32m    232\u001b[0m     self._should_call_test_batch_hooks = any(\n\u001b[1;32m    233\u001b[0m         cb._implements_test_batch_hooks() for cb in self.callbacks)\n",
      "\u001b[0;31mAttributeError\u001b[0m: 'ModelCheckpoint' object has no attribute '_implements_train_batch_hooks'"
     ]
    }
   ],
   "source": [
    "# Configure the model\n",
    "model.compile(loss='categorical_crossentropy',\n",
    "              metrics=['accuracy'], optimizer = 'adam')\n",
    "\n",
    "nb_epochs = 30\n",
    "\n",
    "# fit_generator will be depreciated, so can use fit() directly\n",
    "hist = model.fit(training_set,\n",
    "                  epochs=nb_epochs,\n",
    "                  callbacks = [cb_checkpointer, cb_earlystop],\n",
    "                  validation_data=val_set,\n",
    "                  workers=4)\n"
   ]
  },
  {
   "cell_type": "code",
   "execution_count": 70,
   "metadata": {},
   "outputs": [],
   "source": []
  },
  {
   "cell_type": "markdown",
   "metadata": {},
   "source": [
    "## Test the trained model"
   ]
  },
  {
   "cell_type": "code",
   "execution_count": 21,
   "metadata": {},
   "outputs": [],
   "source": [
    "from keras.preprocessing.image import load_img\n",
    "from keras.preprocessing.image import img_to_array\n",
    "from keras.preprocessing.image import array_to_img"
   ]
  },
  {
   "cell_type": "code",
   "execution_count": 25,
   "metadata": {
    "scrolled": true
   },
   "outputs": [
    {
     "name": "stdout",
     "output_type": "stream",
     "text": [
      "Model: \"sequential_1\"\n",
      "_________________________________________________________________\n",
      "Layer (type)                 Output Shape              Param #   \n",
      "=================================================================\n",
      "conv2d_2 (Conv2D)            (None, 62, 62, 16)        448       \n",
      "_________________________________________________________________\n",
      "max_pooling2d_2 (MaxPooling2 (None, 31, 31, 16)        0         \n",
      "_________________________________________________________________\n",
      "conv2d_3 (Conv2D)            (None, 29, 29, 32)        4640      \n",
      "_________________________________________________________________\n",
      "max_pooling2d_3 (MaxPooling2 (None, 14, 14, 32)        0         \n",
      "_________________________________________________________________\n",
      "flatten_1 (Flatten)          (None, 6272)              0         \n",
      "_________________________________________________________________\n",
      "dropout_1 (Dropout)          (None, 6272)              0         \n",
      "_________________________________________________________________\n",
      "dense_1 (Dense)              (None, 3)                 18819     \n",
      "=================================================================\n",
      "Total params: 23,907\n",
      "Trainable params: 23,907\n",
      "Non-trainable params: 0\n",
      "_________________________________________________________________\n"
     ]
    }
   ],
   "source": [
    "# load the trained model\n",
    "model = tf.keras.models.load_model('../models/checkpoint/basic_cnn_epoch15-val_acc0.76.h5')\n",
    "model.summary()"
   ]
  },
  {
   "cell_type": "code",
   "execution_count": 26,
   "metadata": {},
   "outputs": [
    {
     "data": {
      "image/png": "[encoded data removed]",
      "text/plain": [
       "<Figure size 432x288 with 1 Axes>"
      ]
     },
     "metadata": {
      "needs_background": "light"
     },
     "output_type": "display_data"
    },
    {
     "name": "stdout",
     "output_type": "stream",
     "text": [
      "(1, 64, 64, 3)\n"
     ]
    }
   ],
   "source": [
    "# load a test image\n",
    "img_path = '../data2/recommendation/test/greyo0032_oily_B07D5GQ7RD_pid249_0.jpg'\n",
    "img = load_img(img_path, target_size=(64, 64))\n",
    "\n",
    "# convert the image to suitable format\n",
    "img = img_to_array(img)\n",
    "img /= 255.\n",
    "img = np.expand_dims(img, axis=0)\n",
    "\n",
    "# show\n",
    "plt.imshow(img[0])\n",
    "plt.show()\n",
    "print(img.shape)"
   ]
  },
  {
   "cell_type": "code",
   "execution_count": 28,
   "metadata": {},
   "outputs": [
    {
     "name": "stdout",
     "output_type": "stream",
     "text": [
      "The probabiliy of this image being class dry:0.3964573\n",
      "The probabiliy of this image being class normal:0.09498733\n",
      "The probabiliy of this image being class oily:0.50855535\n",
      "The predicted class is therefore: oily\n"
     ]
    }
   ],
   "source": [
    "# prediction\n",
    "pred = model.predict(img)[0]\n",
    "pos = np.argmax(pred)\n",
    "\n",
    "# preidction probability\n",
    "classes = training_set.class_indices\n",
    "for c in classes.keys():\n",
    "    print('The probabiliy of this image being class %s:%s' %(c, pred[classes[c]]))\n",
    "\n",
    "# return predicted label\n",
    "for c in classes.keys():\n",
    "    if classes[c] == pos:\n",
    "        print('The predicted class is therefore:', c)\n"
   ]
  },
  {
   "cell_type": "markdown",
   "metadata": {},
   "source": [
    "# Using Pretrain Models - ResNet50, DenseNet121, etc\n",
    "- Using pretrain models in Keras model zoo to see the classification performance\n",
    "- reference\n",
    "    - https://towardsdatascience.com/step-by-step-guide-to-using-pretrained-models-in-keras-c9097b647b29\n",
    "    - https://stackoverflow.com/questions/43027764/training-a-model-using-a-pre-trained-model\n"
   ]
  },
  {
   "cell_type": "markdown",
   "metadata": {},
   "source": [
    "## Load the data"
   ]
  },
  {
   "cell_type": "code",
   "execution_count": 7,
   "metadata": {},
   "outputs": [
    {
     "name": "stdout",
     "output_type": "stream",
     "text": [
      "Found 515 images belonging to 3 classes.\n",
      "Found 222 images belonging to 3 classes.\n"
     ]
    }
   ],
   "source": [
    "train_dir = '../data/old/train'\n",
    "val_dir = '../data/old/validate'\n",
    "\n",
    "train_datagen = ImageDataGenerator(\n",
    "    rescale=1./255,\n",
    "    shear_range=0.2,\n",
    "    zoom_range=0.2,\n",
    "    horizontal_flip=True)\n",
    "\n",
    "# validation generator; no need for augmentation\n",
    "val_datagen = ImageDataGenerator(rescale = 1./255)\n",
    "\n",
    "# Define the datasets\n",
    "training_set = train_datagen.flow_from_directory(train_dir,\n",
    "                                                 target_size=(112, 112),\n",
    "                                                 batch_size=32,\n",
    "                                                 class_mode='categorical')\n",
    "val_set = val_datagen.flow_from_directory(val_dir,\n",
    "                                            target_size=(112, 112),\n",
    "                                            batch_size=32,\n",
    "                                            class_mode='categorical')\n",
    "\n"
   ]
  },
  {
   "cell_type": "code",
   "execution_count": 30,
   "metadata": {},
   "outputs": [
    {
     "data": {
      "text/plain": [
       "{'dry': 0, 'normal': 1, 'oily': 2}"
      ]
     },
     "execution_count": 30,
     "metadata": {},
     "output_type": "execute_result"
    }
   ],
   "source": [
    "# check the classes\n",
    "training_set.class_indices"
   ]
  },
  {
   "cell_type": "markdown",
   "metadata": {},
   "source": [
    "## Construct and train the model\n",
    "\n",
    "- We will load certain pretrain model and then freeze their weights (meaning don't need to train them). We will attach pretrain model to the custom layers and learn weights of the cutom layers.\n",
    "- pretrain models: (https://keras.io/api/applications/)\n",
    "    - ResNet50\n",
    "    - EfficientNetB0\n",
    "    - etc"
   ]
  },
  {
   "cell_type": "code",
   "execution_count": 43,
   "metadata": {},
   "outputs": [],
   "source": [
    "from keras.callbacks import ModelCheckpoint, EarlyStopping\n",
    "from keras.applications.resnet50 import ResNet50\n",
    "from keras.applications.densenet import DenseNet121\n",
    "import keras\n",
    "import numpy as np\n",
    "import tensorflow as tf\n",
    "import os\n",
    "import random\n",
    "\n",
    "tf.random.set_seed(10)\n",
    "np.random.seed(10) \n",
    "random.seed(10)\n",
    "os.environ['PYTHONHASHSEED']=str(10)\n"
   ]
  },
  {
   "cell_type": "code",
   "execution_count": 54,
   "metadata": {},
   "outputs": [
    {
     "name": "stdout",
     "output_type": "stream",
     "text": [
      "Model: \"sequential_6\"\n",
      "_________________________________________________________________\n",
      "Layer (type)                 Output Shape              Param #   \n",
      "=================================================================\n",
      "resnet50 (Model)             (None, 4, 4, 2048)        23587712  \n",
      "_________________________________________________________________\n",
      "flatten_6 (Flatten)          (None, 32768)             0         \n",
      "_________________________________________________________________\n",
      "dense_11 (Dense)             (None, 64)                2097216   \n",
      "_________________________________________________________________\n",
      "dense_12 (Dense)             (None, 3)                 195       \n",
      "=================================================================\n",
      "Total params: 25,685,123\n",
      "Trainable params: 2,097,411\n",
      "Non-trainable params: 23,587,712\n",
      "_________________________________________________________________\n"
     ]
    }
   ],
   "source": [
    "# Parameters\n",
    "num_classes = 3\n",
    "input_shape = (112,112,3)\n",
    "model_type = 'desnet'\n",
    "\n",
    "\n",
    "# Configure the pretrain model\n",
    "# freeze all the layers so don't train them again during training\n",
    "if model_type == 'resnet':\n",
    "    model_pretrain = ResNet50(weights='imagenet', \n",
    "                              include_top=False, \n",
    "                              input_shape=input_shape,\n",
    "                              # pooling='avg', # global pooling at the last layer \n",
    "                                            # to reduce the size of the traininable weights\n",
    "                             )\n",
    "elif model_type == 'densenet':\n",
    "    model_pretrain = DenseNet121(weights='imagenet', \n",
    "                              include_top=False, \n",
    "                              input_shape=input_shape,\n",
    "                              #pooling='avg', # global pooling at the last layer\n",
    "                                            # to reduce the size of the traininable weights\n",
    "                             )  \n",
    "    \n",
    "model_pretrain.trainable = False\n",
    "\n",
    "# Define a new model based on the pretrained model\n",
    "model = keras.Sequential([\n",
    "    model_pretrain,\n",
    "    keras.layers.Flatten(),\n",
    "    keras.layers.Dense(64),\n",
    "    keras.layers.Dense(num_classes, activation=\"softmax\"),\n",
    "    ])\n",
    "\n",
    "model.summary()"
   ]
  },
  {
   "cell_type": "code",
   "execution_count": 55,
   "metadata": {},
   "outputs": [],
   "source": [
    "# Define the model check point to keep track of model performance\n",
    "cb_checkpointer = ModelCheckpoint(filepath=\"../models/checkpoint/%s_cnn_epoch{epoch:02d}-val_acc{val_accuracy:.2f}.h5\" %(model_type), \n",
    "                               monitor = 'val_accuracy',\n",
    "                               verbose=1, \n",
    "                               save_best_only=True,\n",
    "                               mode='max'\n",
    "                              )\n",
    "\n",
    "# Define the early-stopping callback to stop the model training when there is no improvement on the model\n",
    "# Stop after no improvement in consective 5 epochs\n",
    "# https://www.tensorflow.org/api_docs/python/tf/keras/callbacks/EarlyStopping\n",
    "cb_earlystop = EarlyStopping(monitor='val_loss', patience=5, verbose=0)\n"
   ]
  },
  {
   "cell_type": "code",
   "execution_count": null,
   "metadata": {},
   "outputs": [],
   "source": [
    "# Configure the model #DENSENET\n",
    "model.compile(loss='categorical_crossentropy',\n",
    "              metrics=['accuracy'], optimizer = 'adam')\n",
    "\n",
    "nb_epochs = 30\n",
    "\n",
    "\n",
    "# fit_generator will be depreciated, so can use fit() directly\n",
    "hist = model.fit(training_set,\n",
    "                  epochs=nb_epochs,\n",
    "                  callbacks = [cb_checkpointer, cb_earlystop],\n",
    "                  validation_data=val_set,\n",
    "                  workers=4)\n"
   ]
  },
  {
   "cell_type": "markdown",
   "metadata": {},
   "source": [
    "## Test the trained model"
   ]
  },
  {
   "cell_type": "code",
   "execution_count": 63,
   "metadata": {},
   "outputs": [
    {
     "data": {
      "image/png": "[encoded data removed]",
      "text/plain": [
       "<Figure size 432x288 with 1 Axes>"
      ]
     },
     "metadata": {
      "needs_background": "light"
     },
     "output_type": "display_data"
    },
    {
     "name": "stdout",
     "output_type": "stream",
     "text": [
      "(1, 112, 112, 3)\n"
     ]
    }
   ],
   "source": [
    "# load a test image\n",
    "img_path = '../data/test/normal970.jpg'\n",
    "img = load_img(img_path, target_size=(112, 112))\n",
    "\n",
    "# convert the image to suitable format\n",
    "img = img_to_array(img)\n",
    "img /= 255.\n",
    "img = np.expand_dims(img, axis=0)\n",
    "\n",
    "# show\n",
    "plt.imshow(img[0])\n",
    "plt.show()\n",
    "print(img.shape)"
   ]
  },
  {
   "cell_type": "code",
   "execution_count": 64,
   "metadata": {},
   "outputs": [
    {
     "name": "stdout",
     "output_type": "stream",
     "text": [
      "The probabiliy of this image being class dry:3.9601033e-05\n",
      "The probabiliy of this image being class normal:0.9999604\n",
      "The probabiliy of this image being class oily:1.6966394e-10\n",
      "The predicted class is therefore: normal\n"
     ]
    }
   ],
   "source": [
    "# prediction\n",
    "pred = model.predict(img)[0]\n",
    "pos = np.argmax(pred)\n",
    "\n",
    "# preidction probability\n",
    "classes = training_set.class_indices\n",
    "for c in classes.keys():\n",
    "    print('The probabiliy of this image being class %s:%s' %(c, pred[classes[c]]))\n",
    "\n",
    "# return predicted label\n",
    "for c in classes.keys():\n",
    "    if classes[c] == pos:\n",
    "        print('The predicted class is therefore:', c)\n"
   ]
  },
  {
   "cell_type": "code",
   "execution_count": 65,
   "metadata": {},
   "outputs": [
    {
     "name": "stdout",
     "output_type": "stream",
     "text": [
      "Model: \"sequential_7\"\n",
      "_________________________________________________________________\n",
      "Layer (type)                 Output Shape              Param #   \n",
      "=================================================================\n",
      "resnet50 (Model)             (None, 4, 4, 2048)        23587712  \n",
      "_________________________________________________________________\n",
      "flatten_7 (Flatten)          (None, 32768)             0         \n",
      "_________________________________________________________________\n",
      "dense_13 (Dense)             (None, 64)                2097216   \n",
      "_________________________________________________________________\n",
      "dense_14 (Dense)             (None, 3)                 195       \n",
      "=================================================================\n",
      "Total params: 25,685,123\n",
      "Trainable params: 2,097,411\n",
      "Non-trainable params: 23,587,712\n",
      "_________________________________________________________________\n"
     ]
    }
   ],
   "source": [
    "# Parameters\n",
    "num_classes = 3\n",
    "input_shape = (112,112,3)\n",
    "model_type = 'resnet'  \n",
    "\n",
    "\n",
    "# ============================== Configure the pretrain model\n",
    "# Make sure we freeze all the layers so that we won't train them again during train\n",
    "if model_type == 'resnet':\n",
    "    model_pretrain = ResNet50(weights='imagenet', \n",
    "                              include_top=False, \n",
    "                              input_shape=input_shape,\n",
    "                              # pooling='avg', # global pooling at the last layer\n",
    "                                            # to reduce the size of the traininable weights\n",
    "                             )\n",
    "elif model_type == 'densenet':\n",
    "    model_pretrain = DenseNet121(weights='imagenet', \n",
    "                              include_top=False, \n",
    "                              input_shape=input_shape,\n",
    "                              #pooling='avg', # global pooling at the last layer\n",
    "                                            # to reduce the size of the traininable weights\n",
    "                             )  \n",
    "    \n",
    "model_pretrain.trainable = False\n",
    "\n",
    "# ============================== Define a new model based on the pretrained model\n",
    "model = keras.Sequential([\n",
    "    model_pretrain,\n",
    "    keras.layers.Flatten(),\n",
    "    keras.layers.Dense(64),\n",
    "    keras.layers.Dense(num_classes, activation=\"softmax\"),\n",
    "    ])\n",
    "\n",
    "model.summary()"
   ]
  },
  {
   "cell_type": "code",
   "execution_count": null,
   "metadata": {},
   "outputs": [],
   "source": []
  }
 ],
 "metadata": {
  "kernelspec": {
   "display_name": "Python 3",
   "language": "python",
   "name": "python3"
  },
  "language_info": {
   "codemirror_mode": {
    "name": "ipython",
    "version": 3
   },
   "file_extension": ".py",
   "mimetype": "text/x-python",
   "name": "python",
   "nbconvert_exporter": "python",
   "pygments_lexer": "ipython3",
   "version": "3.8.2"
  }
 },
 "nbformat": 4,
 "nbformat_minor": 4
}
