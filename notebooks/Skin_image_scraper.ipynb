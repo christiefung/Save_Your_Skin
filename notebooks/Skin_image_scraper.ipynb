{
 "cells": [
  {
   "cell_type": "code",
   "execution_count": 1,
   "metadata": {},
   "outputs": [],
   "source": [
    "from selenium import webdriver\n",
    "from selenium.webdriver.common.keys import Keys\n",
    "from bs4 import BeautifulSoup\n",
    "import re\n",
    "import pandas as pd\n",
    "import os\n",
    "import time"
   ]
  },
  {
   "cell_type": "code",
   "execution_count": 2,
   "metadata": {},
   "outputs": [
    {
     "ename": "KeyboardInterrupt",
     "evalue": "",
     "output_type": "error",
     "traceback": [
      "\u001b[0;31m---------------------------------------------------------------------------\u001b[0m",
      "\u001b[0;31mKeyboardInterrupt\u001b[0m                         Traceback (most recent call last)",
      "\u001b[0;32m<ipython-input-2-263ce53b0dfb>\u001b[0m in \u001b[0;36m<module>\u001b[0;34m\u001b[0m\n\u001b[1;32m     30\u001b[0m \u001b[0;34m\u001b[0m\u001b[0m\n\u001b[1;32m     31\u001b[0m     \u001b[0mbrowser\u001b[0m \u001b[0;34m=\u001b[0m \u001b[0mscrollDown\u001b[0m\u001b[0;34m(\u001b[0m\u001b[0mdriver\u001b[0m\u001b[0;34m,\u001b[0m \u001b[0;36m5\u001b[0m\u001b[0;34m)\u001b[0m\u001b[0;34m\u001b[0m\u001b[0;34m\u001b[0m\u001b[0m\n\u001b[0;32m---> 32\u001b[0;31m     \u001b[0mtime\u001b[0m\u001b[0;34m.\u001b[0m\u001b[0msleep\u001b[0m\u001b[0;34m(\u001b[0m\u001b[0;36m5\u001b[0m\u001b[0;34m)\u001b[0m\u001b[0;34m\u001b[0m\u001b[0;34m\u001b[0m\u001b[0m\n\u001b[0m\u001b[1;32m     33\u001b[0m \u001b[0;34m\u001b[0m\u001b[0m\n\u001b[1;32m     34\u001b[0m     \u001b[0mbrowser\u001b[0m \u001b[0;34m=\u001b[0m \u001b[0mscrollDown\u001b[0m\u001b[0;34m(\u001b[0m\u001b[0mdriver\u001b[0m\u001b[0;34m,\u001b[0m \u001b[0;36m5\u001b[0m\u001b[0;34m)\u001b[0m\u001b[0;34m\u001b[0m\u001b[0;34m\u001b[0m\u001b[0m\n",
      "\u001b[0;31mKeyboardInterrupt\u001b[0m: "
     ]
    }
   ],
   "source": [
    "def scrollDown(driver, n_scroll):\n",
    "    body = driver.find_element_by_tag_name(\"body\")\n",
    "    while n_scroll >= 0:\n",
    "        body.send_keys(Keys.PAGE_DOWN)\n",
    "        n_scroll -= 2\n",
    "    return driver\n",
    "\n",
    "url = 'https://www.gettyimages.com/photos/dry-face?mediatype=photography&phrase=dry%20face&sort=mostpopular'\n",
    "chrome_path = \"/Users/ChristieFung/Desktop/Insight/skin_care_scraper-2/chromedriver\"\n",
    "\n",
    "driver = webdriver.Chrome(executable_path = chrome_path)\n",
    "driver.implicitly_wait(10)\n",
    "driver.get(url)\n",
    "\n",
    "#python_button = driver.find_element_by_id('MainContent_uxLevel1_Agencies_uxAgencyBtn_33') #FHSU\n",
    "#python_button.click() #click fhsu link\n",
    "\n",
    "#Selenium hands the page source to Beautiful Soup\n",
    "#soup = BeautifulSoup(driver.page_source, 'lxml')\n",
    "\n",
    "image_urls = [] #empty list\n",
    "\n",
    "#images = driver.find_elements_by_class_name('gallery-asset__thumb gallery-mosaic-asset__thumb gallery-mosaic-asset__thumb--EPL')\n",
    "\n",
    "images = driver.find_elements_by_class_name('gallery-mosaic-asset__link')\n",
    "\n",
    "for a in images:\n",
    "    imurl = a.get_attribute('href')\n",
    "    image_urls.append(imurl)\n",
    "\n",
    "    browser = scrollDown(driver, 5)\n",
    "    time.sleep(5)\n",
    "    \n",
    "    browser = scrollDown(driver, 5)\n",
    "    time.sleep(5)\n",
    "    \n",
    "    browser = scrollDown(driver, 5)\n",
    "    time.sleep(5)\n",
    "    \n",
    "    browser = scrollDown(driver, 5)\n",
    "    time.sleep(5)\n"
   ]
  },
  {
   "cell_type": "code",
   "execution_count": 3,
   "metadata": {},
   "outputs": [
    {
     "data": {
      "text/plain": [
       "['https://www.gettyimages.com/detail/photo/this-moisturizer-definitely-works-wonders-for-me-royalty-free-image/959085604',\n",
       " 'https://www.gettyimages.com/detail/photo/beautiful-woman-looks-in-the-mirror-in-the-bathroom-royalty-free-image/1187371607',\n",
       " 'https://www.gettyimages.com/detail/photo/dry-skin-royalty-free-image/157508421',\n",
       " 'https://www.gettyimages.com/detail/photo/inside-beauty-royalty-free-image/171577128',\n",
       " 'https://www.gettyimages.com/detail/photo/allergic-dermatitis-skin-on-face-royalty-free-image/1080601806',\n",
       " 'https://www.gettyimages.com/detail/photo/woman-with-cracked-and-peeling-skin-royalty-free-image/88449501',\n",
       " 'https://www.gettyimages.com/detail/photo/keeping-up-with-her-daily-morning-routine-royalty-free-image/959085270']"
      ]
     },
     "execution_count": 3,
     "metadata": {},
     "output_type": "execute_result"
    }
   ],
   "source": [
    "image_urls"
   ]
  },
  {
   "cell_type": "code",
   "execution_count": 4,
   "metadata": {},
   "outputs": [
    {
     "data": {
      "text/html": [
       "<div>\n",
       "<style scoped>\n",
       "    .dataframe tbody tr th:only-of-type {\n",
       "        vertical-align: middle;\n",
       "    }\n",
       "\n",
       "    .dataframe tbody tr th {\n",
       "        vertical-align: top;\n",
       "    }\n",
       "\n",
       "    .dataframe thead th {\n",
       "        text-align: right;\n",
       "    }\n",
       "</style>\n",
       "<table border=\"1\" class=\"dataframe\">\n",
       "  <thead>\n",
       "    <tr style=\"text-align: right;\">\n",
       "      <th></th>\n",
       "      <th>img_link</th>\n",
       "    </tr>\n",
       "  </thead>\n",
       "  <tbody>\n",
       "    <tr>\n",
       "      <th>0</th>\n",
       "      <td>https://www.gettyimages.com/detail/photo/this-...</td>\n",
       "    </tr>\n",
       "    <tr>\n",
       "      <th>1</th>\n",
       "      <td>https://www.gettyimages.com/detail/photo/beaut...</td>\n",
       "    </tr>\n",
       "    <tr>\n",
       "      <th>2</th>\n",
       "      <td>https://www.gettyimages.com/detail/photo/dry-s...</td>\n",
       "    </tr>\n",
       "    <tr>\n",
       "      <th>3</th>\n",
       "      <td>https://www.gettyimages.com/detail/photo/insid...</td>\n",
       "    </tr>\n",
       "    <tr>\n",
       "      <th>4</th>\n",
       "      <td>https://www.gettyimages.com/detail/photo/aller...</td>\n",
       "    </tr>\n",
       "  </tbody>\n",
       "</table>\n",
       "</div>"
      ],
      "text/plain": [
       "                                            img_link\n",
       "0  https://www.gettyimages.com/detail/photo/this-...\n",
       "1  https://www.gettyimages.com/detail/photo/beaut...\n",
       "2  https://www.gettyimages.com/detail/photo/dry-s...\n",
       "3  https://www.gettyimages.com/detail/photo/insid...\n",
       "4  https://www.gettyimages.com/detail/photo/aller..."
      ]
     },
     "execution_count": 4,
     "metadata": {},
     "output_type": "execute_result"
    }
   ],
   "source": [
    "df = pd.DataFrame({'img_link': image_urls})\n",
    "df.head()"
   ]
  },
  {
   "cell_type": "code",
   "execution_count": null,
   "metadata": {},
   "outputs": [],
   "source": []
  }
 ],
 "metadata": {
  "kernelspec": {
   "display_name": "Python 3",
   "language": "python",
   "name": "python3"
  },
  "language_info": {
   "codemirror_mode": {
    "name": "ipython",
    "version": 3
   },
   "file_extension": ".py",
   "mimetype": "text/x-python",
   "name": "python",
   "nbconvert_exporter": "python",
   "pygments_lexer": "ipython3",
   "version": "3.8.2"
  }
 },
 "nbformat": 4,
 "nbformat_minor": 4
}
