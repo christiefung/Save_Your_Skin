{
 "cells": [
  {
   "cell_type": "markdown",
   "metadata": {},
   "source": [
    "# Amazon scraper\n",
    "- Based on this: https://github.com/vijeshs/Web-Scraping-/blob/master/Web%20Scraping-JBL%20speaker.ipynb"
   ]
  },
  {
   "cell_type": "code",
   "execution_count": 9,
   "metadata": {},
   "outputs": [],
   "source": [
    "from bs4 import BeautifulSoup\n",
    "from tqdm import tqdm_notebook as tqdm\n",
    "from datetime import datetime\n",
    "\n",
    "import pandas as pd\n",
    "import requests\n",
    "import pickle"
   ]
  },
  {
   "cell_type": "code",
   "execution_count": 10,
   "metadata": {},
   "outputs": [],
   "source": [
    "header={'user-agent': 'Mozilla/5.0 (Windows NT 10.0; Win64; x64) AppleWebKit/537.36 (KHTML, like Gecko) Chrome/83.0.4103.61 Safari/537.36'}\n",
    "\n"
   ]
  },
  {
   "cell_type": "markdown",
   "metadata": {},
   "source": [
    "## This saves all the product name and the asin no\n",
    "- The Amazon Standard Identification Number (asin no) is the number used for specific product search\n",
    "- Given a search query, we will loop through multiple pages of amazon and get the coressponding products\n",
    "- Note that we are using amazon.in, not amazon.com because amazon.com parsing may fail\n"
   ]
  },
  {
   "cell_type": "code",
   "execution_count": 11,
   "metadata": {},
   "outputs": [],
   "source": [
    "from collections import OrderedDict"
   ]
  },
  {
   "cell_type": "code",
   "execution_count": 12,
   "metadata": {
    "scrolled": false
   },
   "outputs": [
    {
     "name": "stderr",
     "output_type": "stream",
     "text": [
      "<ipython-input-12-9dec568af7fa>:39: TqdmDeprecationWarning: This function will be removed in tqdm==5.0.0\n",
      "Please use `tqdm.notebook.tqdm` instead of `tqdm.tqdm_notebook`\n",
      "  for i in tqdm(range(1, npages+1)):\n"
     ]
    },
    {
     "data": {
      "application/vnd.jupyter.widget-view+json": {
       "model_id": "cf03f3aac66c40569f9105ee07514944",
       "version_major": 2,
       "version_minor": 0
      },
      "text/plain": [
       "HBox(children=(FloatProgress(value=0.0, max=10.0), HTML(value='')))"
      ]
     },
     "metadata": {},
     "output_type": "display_data"
    },
    {
     "name": "stdout",
     "output_type": "stream",
     "text": [
      "https://www.amazon.com/s?k=oily+skin+lotion&page=1\n",
      "https://www.amazon.com/s?k=oily+skin+lotion&page=2\n",
      "https://www.amazon.com/s?k=oily+skin+lotion&page=3\n",
      "https://www.amazon.com/s?k=oily+skin+lotion&page=4\n",
      "https://www.amazon.com/s?k=oily+skin+lotion&page=5\n",
      "https://www.amazon.com/s?k=oily+skin+lotion&page=6\n",
      "https://www.amazon.com/s?k=oily+skin+lotion&page=7\n",
      "https://www.amazon.com/s?k=oily+skin+lotion&page=8\n",
      "https://www.amazon.com/s?k=oily+skin+lotion&page=9\n",
      "https://www.amazon.com/s?k=oily+skin+lotion&page=10\n",
      "\n",
      "Total number of products identified for 10 pages:0\n"
     ]
    }
   ],
   "source": [
    "def get_product_asins(url_base, search_query):\n",
    "    \"\"\"\n",
    "    ## Function to scrape product name and asin no (as the file path is similar)\n",
    "    \"\"\"\n",
    "    url=\"%s%s\" %(url_base, search_query)\n",
    "    print(url)\n",
    "    \n",
    "    # Get the data\n",
    "    page=requests.get(url,headers=header)  \n",
    "    if page.status_code==200:\n",
    "        return page                                #returns the page if there is no error\n",
    "    else:\n",
    "        return \"Error\"\n",
    "    \n",
    "sites = {\n",
    "    'amazon.com':{\n",
    "        'url_base': \"https://www.amazon.com/s?k=\",\n",
    "        'asin_div': {'data-asin':True},\n",
    "        'product_name_span': {'class':'a-size-base-plus a-color-base a-text-normal'}\n",
    "    },\n",
    "    'amazon.in':{\n",
    "        'url_base': \"https://www.amazon.in/s?k=\",\n",
    "        #'asin_div': {'class':['sg-col-4-of-24 sg-col-4-of-12 sg-col-4-of-36 s-result-item s-asin sg-col-4-of-28 sg-col-4-of-16 AdHolder sg-col sg-col-4-of-20 sg-col-4-of-32']},\n",
    "        'asin_div': {'data-asin':True},\n",
    "        'product_name_span': {'class':'a-size-base-plus a-color-base a-text-normal'}\n",
    "    },\n",
    "}    \n",
    "\n",
    "\n",
    "# -------------------- custom parameters\n",
    "site = sites['amazon.com']\n",
    "npages = 10\n",
    "query = 'oily+skin+lotion'\n",
    "skin_type = 'dry'\n",
    "\n",
    "\n",
    "# ------------------------- start\n",
    "products = OrderedDict()\n",
    "for i in tqdm(range(1, npages+1)):\n",
    "    try:\n",
    "        # Get the respone and create bf4\n",
    "        response=get_product_asins(site['url_base'], '%s&page=%s' %(query,str(i)))     #iterates through multiple pages of the search products\n",
    "        soup=BeautifulSoup(response.content, 'lxml') # somehow need to use lxml parser to make amazon.com work.\n",
    "                                                     # pip install lxml\n",
    "                                                     # html.parser won't work\n",
    "\n",
    "        # parse the asins (each product will have a unique asin)\n",
    "        for p in soup.findAll('div', attrs=site['asin_div']):\n",
    "            asin = p['data-asin']\n",
    "\n",
    "            # parse the product name. If there is no product name\n",
    "            pn = p.find('span', attrs=site['product_name_span'])\n",
    "            if pn:\n",
    "                pn = pn.text\n",
    "                products[asin] = pn\n",
    "    except: \n",
    "        print('Fail to parse this page:', i)\n",
    "\n",
    "\n",
    "            \n",
    "# print and check\n",
    "print('Total number of products identified for %s pages:%s' %(npages, len(products)))"
   ]
  },
  {
   "cell_type": "code",
   "execution_count": 11,
   "metadata": {},
   "outputs": [],
   "source": [
    "# with open('a.txt', 'wb') as f:\n",
    "#     f.write(response.content)\n"
   ]
  },
  {
   "cell_type": "markdown",
   "metadata": {},
   "source": [
    "### save\n",
    "save the information in case something break and I lost all the webscraping information"
   ]
  },
  {
   "cell_type": "code",
   "execution_count": 29,
   "metadata": {},
   "outputs": [],
   "source": [
    "# save\n",
    "dt = datetime.now().strftime(\"%d-%m-%Y_%H-%M-%S\")\n",
    "fn = '%s_product_asins' %dt\n",
    "with open('../data/%s.pkl' %fn, 'wb') as f:\n",
    "    pickle.dump({'asin':products}, f)\n",
    "    "
   ]
  },
  {
   "cell_type": "code",
   "execution_count": 77,
   "metadata": {},
   "outputs": [],
   "source": [
    "# # hack the asin_no\n",
    "# Asin_no=['B00EH99VY6',\n",
    "#  'B07STDDDGF',\n",
    "#  'B07LCQW2RC',]"
   ]
  },
  {
   "cell_type": "markdown",
   "metadata": {},
   "source": [
    "## Identify each product (ASIN) review link\n",
    "- One example of review link is (The overaall review link): \n",
    "https://www.amazon.in//Lacto-Calamine-Daily-Lotion-Balance/product-reviews/B00EH99VY6/ref=cm_cr_dp_d_show_all_btm?ie=UTF8&amp;reviewerType=all_reviews&pageNumber=1"
   ]
  },
  {
   "cell_type": "markdown",
   "metadata": {},
   "source": [
    "### Load the saved ASINs"
   ]
  },
  {
   "cell_type": "code",
   "execution_count": 54,
   "metadata": {
    "scrolled": true
   },
   "outputs": [
    {
     "name": "stdout",
     "output_type": "stream",
     "text": [
      "['B00352MHE2', 'B00BPF3LN2', 'B00AYSUKTE', 'B000XY9LT4', 'B001459IEE', 'B0034F9K36', 'B004D2DPNK', 'B00TTD9BRC', 'B00NR1YQK4', 'B000YJ2SLG', 'B005EZSUJY', 'B002HR3AGU', 'B0065I0UMO', 'B003BMJGKE', 'B001E6OCO4', 'B075G3RJDZ', 'B00DG8F04Y', 'B07L9RTWRS', 'B00DG8EZKO', 'B07RTPLBD2', 'B01M047N2Q', 'B0067H6G26', 'B01MCTTDJS', 'B000NKL3D0', 'B01KJGUUHM', 'B07YLJ2X55', 'B000UBN5S8', 'B018233T04', 'B0046OFO3Y', 'B00119XXPI', 'B0013OJUY4', 'B0063I3M5I', 'B00FAUS1HY', 'B07GC88JBC', 'B07GVPCGJK', 'B001G7PLZ0', 'B00DEX61A8', 'B00DG8F02Q', 'B008B9L6WS', 'B07SJVNJRL', 'B0009F3O8Q', 'B07QYWKLKP', 'B01GPWPJOS', 'B001PBOKRM', 'B004XZHR4K', 'B01B12KCGC', 'B0107QOYIK', 'B00143UYJE', 'B07SS6BN5X', 'B074MFDJRG', 'B083JM36DX', 'B07H14726J', 'B07F2GTD63', 'B00171ETM6', 'B008QXDD9I', 'B00NAF79MO', 'B00HNSSHQ6', 'B000NWGCZ2', 'B005C2NB3O', 'B07FMPPP5B', 'B00008MNZH', 'B075RH96ZL', 'B00NFR14PK', 'B00WB8843Y', 'B01HWIEGAW', 'B0859SPVR6', 'B00U97TO6U', 'B01K4Q1R2E', 'B07DPDNWKJ', 'B07NJPSHMD', 'B073HDJL96', 'B07PK61V47', 'B014UUZ1H2', 'B07SWHLG2C', 'B01DIXHNUU', 'B0000SW8BG', 'B07HRG7FYW', 'B073CXZ8KR', 'B01M5BJEII', 'B07S2KHNZB', 'B00OW9OU2O', 'B004VMGTHQ', 'B00DG8EZY0', 'B0107QOZR0', 'B01IAILGW4', 'B073CYHHHW', 'B003QB26MA', 'B084QG4WF6', 'B07KG6VLXR', 'B00JGQGH42', 'B015ORMEP2', 'B00AHH00MO', 'B07K8Z6FTD', 'B005IHSTRQ', 'B07SWHLG2G', 'B00J51QDH4', 'B07KZ5VZVF', 'B079YHT2MV', 'B072NBD1L1', 'B07SM1XY1F', 'B0731M8NJJ', 'B001H54VNO', 'B07S7FRWKR', 'B00WB883QC', 'B01J9S17NW', 'B01NGTSR2X', 'B07YVDW9SP', 'B07MXN21RX', 'B00NV9KLXS', 'B01N20N5FA', 'B008Q5M1LC', 'B004FQRXK0', 'B07GYZX6GB', 'B0067H6HGQ', 'B001F51TOU', 'B07SPTZKD5', 'B07KTXWKMG', 'B00NQ2GOJU', 'B001AVRDAS', 'B01H6OYPU8', 'B00TZ8TH9I', 'B07BYD8JZT', 'B00I11ZW30', 'B0017SWIU4', 'B00JGQ9U1O', 'B004YIQU94', 'B076PN5YKP', 'B00OCN96FQ', 'B01BM67UPS', 'B01AIFS5T4', 'B004D2DQCU', 'B00JZ03O5Y', 'B07BKGHM15', 'B0009I4J4G', 'B000LRGG1Y', 'B00AA9U5C4', 'B00JGQGNUK', 'B01B7EXB80', 'B00LZZ7FZW', 'B000P9FP10', 'B000O3SS7U', 'B081NSXBT4', 'B000136P7S', 'B00JGZC1F2', 'B06XKWVGQZ', 'B07VW4CY47', '1733361820', 'B084CZGXDP', 'B00ALB397Y', 'B01LYTBM7Y', 'B000OYJ9AO', 'B00VH51QVO', 'B003QXZWYW', 'B07M6M5VPR', 'B07THDGYYQ', 'B00J4YWNKI', 'B07JBKTJ3X', 'B07TR75W9H', 'B081KLQ7T6', 'B07Q8BD495', 'B001GBFEGM', 'B07CY1HNH7', 'B00Q6NTESY', 'B00MH8XOQA', 'B000ULLPXU', 'B086LJQNB2', 'B01N6SWKD5', 'B00R3B58VA', 'B07DT3HL69', 'B017U0B4KM', 'B00KOSWTX4', 'B084TBCZ2S', 'B088ZVW59V', 'B07SQ4VQ8D', 'B07Q6354D1', 'B07BMKFR32', 'B00HYUVI4Q', 'B000FIJ2VK', 'B07NFHYCT8', 'B00IB0X8O6', 'B01M69QJNZ', 'B000YGDRIW', 'B00NFR14ZU', 'B07DTF3TKG', 'B086LK197J', 'B004U35850', 'B01BPN6KG8', 'B001H54VI4', 'B001ET7EBO', 'B07P7C6KJG', 'B0822ZBSKW', 'B075FY8Y1L', 'B00JZ017L2', 'B07HV5HX9D', 'B06XWC9DGK', 'B00IVZDCP6', 'B00MMKAM5E', 'B013KPK71I', 'B00BWE7Y2K', 'B002AMUFIS', 'B074T2MQBM', 'B0845CZY3R', 'B01HDUOLQ8']\n"
     ]
    }
   ],
   "source": [
    "# check the data/ folder and identify the saved file\n",
    "fn = '10-06-2020_22-51-32_product_asins'\n",
    "with open('../data/%s.pkl' %fn, 'rb') as f:\n",
    "    data = pickle.load(f)\n",
    "    \n",
    "# Get all the ASINS\n",
    "asins = list(data['asin'].keys())\n",
    "asins = [x for x in asins if x]\n",
    "print(asins)"
   ]
  },
  {
   "cell_type": "markdown",
   "metadata": {},
   "source": [
    "### Identify the review link "
   ]
  },
  {
   "cell_type": "code",
   "execution_count": 56,
   "metadata": {
    "scrolled": true
   },
   "outputs": [
    {
     "name": "stderr",
     "output_type": "stream",
     "text": [
      "/Users/johnnyh/opt/miniconda3/envs/scraping/lib/python3.6/site-packages/ipykernel_launcher.py:38: TqdmDeprecationWarning: This function will be removed in tqdm==5.0.0\n",
      "Please use `tqdm.notebook.tqdm` instead of `tqdm.tqdm_notebook`\n"
     ]
    },
    {
     "data": {
      "application/vnd.jupyter.widget-view+json": {
       "model_id": "ae400181c2c4488b964c2f3e98574ae6",
       "version_major": 2,
       "version_minor": 0
      },
      "text/plain": [
       "HBox(children=(FloatProgress(value=0.0, max=50.0), HTML(value='')))"
      ]
     },
     "metadata": {},
     "output_type": "display_data"
    },
    {
     "name": "stdout",
     "output_type": "stream",
     "text": [
      "https://www.amazon.com/dp/B00352MHE2\n",
      "https://www.amazon.com/dp/B00BPF3LN2\n",
      "https://www.amazon.com/dp/B00AYSUKTE\n",
      "https://www.amazon.com/dp/B000XY9LT4\n",
      "https://www.amazon.com/dp/B001459IEE\n",
      "https://www.amazon.com/dp/B0034F9K36\n",
      "https://www.amazon.com/dp/B004D2DPNK\n",
      "https://www.amazon.com/dp/B00TTD9BRC\n",
      "https://www.amazon.com/dp/B00NR1YQK4\n",
      "https://www.amazon.com/dp/B000YJ2SLG\n",
      "https://www.amazon.com/dp/B005EZSUJY\n",
      "https://www.amazon.com/dp/B002HR3AGU\n",
      "https://www.amazon.com/dp/B0065I0UMO\n",
      "https://www.amazon.com/dp/B003BMJGKE\n",
      "https://www.amazon.com/dp/B001E6OCO4\n",
      "https://www.amazon.com/dp/B075G3RJDZ\n",
      "https://www.amazon.com/dp/B00DG8F04Y\n",
      "https://www.amazon.com/dp/B07L9RTWRS\n",
      "https://www.amazon.com/dp/B00DG8EZKO\n",
      "https://www.amazon.com/dp/B07RTPLBD2\n",
      "https://www.amazon.com/dp/B01M047N2Q\n",
      "https://www.amazon.com/dp/B0067H6G26\n",
      "https://www.amazon.com/dp/B01MCTTDJS\n",
      "https://www.amazon.com/dp/B000NKL3D0\n",
      "https://www.amazon.com/dp/B01KJGUUHM\n",
      "https://www.amazon.com/dp/B07YLJ2X55\n",
      "https://www.amazon.com/dp/B000UBN5S8\n",
      "https://www.amazon.com/dp/B018233T04\n",
      "https://www.amazon.com/dp/B0046OFO3Y\n",
      "https://www.amazon.com/dp/B00119XXPI\n",
      "https://www.amazon.com/dp/B0013OJUY4\n",
      "https://www.amazon.com/dp/B0063I3M5I\n",
      "https://www.amazon.com/dp/B00FAUS1HY\n",
      "https://www.amazon.com/dp/B07GC88JBC\n",
      "https://www.amazon.com/dp/B07GVPCGJK\n",
      "https://www.amazon.com/dp/B001G7PLZ0\n",
      "https://www.amazon.com/dp/B00DEX61A8\n",
      "https://www.amazon.com/dp/B00DG8F02Q\n",
      "https://www.amazon.com/dp/B008B9L6WS\n",
      "https://www.amazon.com/dp/B07SJVNJRL\n",
      "https://www.amazon.com/dp/B0009F3O8Q\n",
      "https://www.amazon.com/dp/B07QYWKLKP\n",
      "https://www.amazon.com/dp/B01GPWPJOS\n",
      "https://www.amazon.com/dp/B001PBOKRM\n",
      "https://www.amazon.com/dp/B004XZHR4K\n",
      "https://www.amazon.com/dp/B01B12KCGC\n",
      "https://www.amazon.com/dp/B0107QOYIK\n",
      "https://www.amazon.com/dp/B00143UYJE\n",
      "https://www.amazon.com/dp/B07SS6BN5X\n",
      "https://www.amazon.com/dp/B074MFDJRG\n",
      "\n",
      "Number of review links: 50\n"
     ]
    }
   ],
   "source": [
    "def get_review_url(base_url, query):\n",
    "    \"\"\"\n",
    "    Function to scrape link of the All customer reviews to acess all the reviews\n",
    "    \"\"\"\n",
    "    # query\n",
    "    url=\"%s%s\" %(base_url, query)\n",
    "    print(url)\n",
    "    page=requests.get(url, headers=header)\n",
    "    \n",
    "    # check status\n",
    "    if page.status_code==200:\n",
    "        return page                           \n",
    "    else:\n",
    "        return \"Error\"\n",
    "\n",
    "sites = {\n",
    "    'amazon.in':{\n",
    "        'url_base': \"https://www.amazon.in/dp/\",\n",
    "        'tag_a': {'data-hook':'see-all-reviews-link-foot'}\n",
    "    },\n",
    "    'amazon.com':{\n",
    "        'url_base': \"https://www.amazon.com/dp/\",\n",
    "        'tag_a': {'data-hook':'see-all-reviews-link-foot'}\n",
    "    },\n",
    "}  \n",
    "\n",
    "# ------------------------- custom parameters\n",
    "site = sites['amazon.com']\n",
    "nproducts = 50 # THis can adjust based on how many products you want to check\n",
    "                    # FYI: this cell take a lot of time to run, you may want to\n",
    "                    # start small, e.g., nproducts = 5, and see if everything work,\n",
    "                    # then go to all the available ASINS\n",
    "                    # len(asins)\n",
    "\n",
    "\n",
    "# ------------------------- start\n",
    "review_links = {}\n",
    "for i in tqdm(range(0, nproducts)):\n",
    "    try:\n",
    "        r=get_review_url(site['url_base'], asins[i])\n",
    "\n",
    "        # bf4\n",
    "        soup=BeautifulSoup(r.content, 'lxml')\n",
    "        tag = soup.find('a',attrs=site['tag_a'])\n",
    "        if tag:\n",
    "            review_links[asins[i]] = tag['href']\n",
    "    except:\n",
    "        print('Failed to get the url for this product:', i)\n",
    "\n",
    "# check\n",
    "print('Number of review links:', len(review_links))"
   ]
  },
  {
   "cell_type": "code",
   "execution_count": 12,
   "metadata": {},
   "outputs": [],
   "source": [
    "# with open('a.txt', 'wb') as f:\n",
    "#     f.write(r.content)\n"
   ]
  },
  {
   "cell_type": "markdown",
   "metadata": {},
   "source": [
    "### save\n",
    "save the information in case something break and I lost all the webscraping information"
   ]
  },
  {
   "cell_type": "code",
   "execution_count": 59,
   "metadata": {},
   "outputs": [],
   "source": [
    "# save\n",
    "dt = datetime.now().strftime(\"%d-%m-%Y_%H-%M-%S\")\n",
    "fn = '%s_product_review_link' %dt\n",
    "with open('../data/%s.pkl' %fn, 'wb') as f:\n",
    "    pickle.dump({'review_link':review_links}, f)\n",
    "    "
   ]
  },
  {
   "cell_type": "markdown",
   "metadata": {},
   "source": [
    "## For each product, scrape the review, rating, and images\n",
    "- install tqdm\n",
    "- install https://ipywidgets.readthedocs.io/en/stable/user_install.html\n",
    "- Restart your notebook after installation"
   ]
  },
  {
   "cell_type": "markdown",
   "metadata": {},
   "source": [
    "### Load the review link of every product"
   ]
  },
  {
   "cell_type": "code",
   "execution_count": 61,
   "metadata": {
    "scrolled": true
   },
   "outputs": [
    {
     "data": {
      "text/plain": [
       "{'B00352MHE2': '/Cetaphil-Advance-Hydrating-Lotion-Sensitive/product-reviews/B00352MHE2/ref=cm_cr_dp_d_show_all_btm?ie=UTF8&reviewerType=all_reviews',\n",
       " 'B00BPF3LN2': '/Eucerin-Original-Healing-Lotion-packaging/product-reviews/B00BPF3LN2/ref=cm_cr_dp_d_show_all_btm?ie=UTF8&reviewerType=all_reviews',\n",
       " 'B00AYSUKTE': '/Eucerin-Hydration-Spectrum-Lotion-Packaging/product-reviews/B00AYSUKTE/ref=cm_cr_dp_d_show_all_btm?ie=UTF8&reviewerType=all_reviews',\n",
       " 'B000XY9LT4': '/Eucerin-Intensive-Repair-Lotion-Bottle/product-reviews/B000XY9LT4/ref=cm_cr_dp_d_show_all_btm?ie=UTF8&reviewerType=all_reviews',\n",
       " 'B001459IEE': '/Aveeno-Moisturizing-Soothing-Emollients-Fragrance-Free/product-reviews/B001459IEE/ref=cm_cr_dp_d_show_all_btm?ie=UTF8&reviewerType=all_reviews',\n",
       " 'B0034F9K36': '/Jergens-Ultra-Healing-Moisturizer-Ounces/product-reviews/B0034F9K36/ref=cm_cr_dp_d_show_all_btm?ie=UTF8&reviewerType=all_reviews',\n",
       " 'B004D2DPNK': '/Lubriderm-Enriched-Non-Greasy-Moisturizer-Fragrance/product-reviews/B004D2DPNK/ref=cm_cr_dp_d_show_all_btm?ie=UTF8&reviewerType=all_reviews',\n",
       " 'B00TTD9BRC': '/CeraVe-Moisturizing-Cream-Daily-Moisturizer/product-reviews/B00TTD9BRC/ref=cm_cr_dp_d_show_all_btm?ie=UTF8&reviewerType=all_reviews',\n",
       " 'B00NR1YQK4': '/Neutrogena-Hyaluronic-Hydrating-Moisturizer-Gel-Cream/product-reviews/B00NR1YQK4/ref=cm_cr_dp_d_show_all_btm?ie=UTF8&reviewerType=all_reviews',\n",
       " 'B000YJ2SLG': '/CeraVe-Moisturizing-Lotion-Hyaluronic-Fragrance/product-reviews/B000YJ2SLG/ref=cm_cr_dp_d_show_all_btm?ie=UTF8&reviewerType=all_reviews',\n",
       " 'B005EZSUJY': '/Eau-Thermale-Av%C3%A8ne-Antirougeurs-Concentrate/product-reviews/B005EZSUJY/ref=cm_cr_dp_d_show_all_btm?ie=UTF8&reviewerType=all_reviews',\n",
       " 'B002HR3AGU': '/Body-Shop-Vitamin-Moisture-1-7-Fluid/product-reviews/B002HR3AGU/ref=cm_cr_dp_d_show_all_btm?ie=UTF8&reviewerType=all_reviews',\n",
       " 'B0065I0UMO': '/First-Aid-Beauty-Intense-Hydration/product-reviews/B0065I0UMO/ref=cm_cr_dp_d_show_all_btm?ie=UTF8&reviewerType=all_reviews',\n",
       " 'B003BMJGKE': '/Eucerin-Advanced-Repair-Skin-Lotion/product-reviews/B003BMJGKE/ref=cm_cr_dp_d_show_all_btm?ie=UTF8&reviewerType=all_reviews',\n",
       " 'B001E6OCO4': '/Lubriderm-Advanced-Moisturizing-Hydration-Non-Greasy/product-reviews/B001E6OCO4/ref=cm_cr_dp_d_show_all_btm?ie=UTF8&reviewerType=all_reviews',\n",
       " 'B075G3RJDZ': '/Lubriderm-Moisture-Lotion-Fragrance-Free-Normal/product-reviews/B075G3RJDZ/ref=cm_cr_dp_d_show_all_btm?ie=UTF8&reviewerType=all_reviews',\n",
       " 'B00DG8F04Y': '/NIVEA-Essentially-Enriched-Body-Lotion/product-reviews/B00DG8F04Y/ref=cm_cr_dp_d_show_all_btm?ie=UTF8&reviewerType=all_reviews',\n",
       " 'B07L9RTWRS': '/Gold-Bond-Ultimate-Radiance-Renewal/product-reviews/B07L9RTWRS/ref=cm_cr_dp_d_show_all_btm?ie=UTF8&reviewerType=all_reviews',\n",
       " 'B00DG8EZKO': '/NIVEA-Intense-Healing-Body-Lotion/product-reviews/B00DG8EZKO/ref=cm_cr_dp_d_show_all_btm?ie=UTF8&reviewerType=all_reviews',\n",
       " 'B07RTPLBD2': '/Moisturizer-Sensitive-Natural-Products-Hyaluronic/product-reviews/B07RTPLBD2/ref=cm_cr_dp_d_show_all_btm?ie=UTF8&reviewerType=all_reviews',\n",
       " 'B01M047N2Q': '/OKeeffes-Repair-Lotion-Moisturizer-Bottle/product-reviews/B01M047N2Q/ref=cm_cr_dp_d_show_all_btm?ie=UTF8&reviewerType=all_reviews',\n",
       " 'B0067H6G26': '/Aveeno-Emollients-Fragrance-Free-Moisturizing-Extra-Dry/product-reviews/B0067H6G26/ref=cm_cr_dp_d_show_all_btm?ie=UTF8&reviewerType=all_reviews',\n",
       " 'B01MCTTDJS': '/OGX-Creamy-Coconut-Miracle-Moisture/product-reviews/B01MCTTDJS/ref=cm_cr_dp_d_show_all_btm?ie=UTF8&reviewerType=all_reviews',\n",
       " 'B000NKL3D0': '/Cur%C3%A9l-Healing-Intensive-Lotion-Extra-Dry/product-reviews/B000NKL3D0/ref=cm_cr_dp_d_show_all_btm?ie=UTF8&reviewerType=all_reviews',\n",
       " 'B01KJGUUHM': '/Eucerin-Daily-Hydration-Body-Cream/product-reviews/B01KJGUUHM/ref=cm_cr_dp_d_show_all_btm?ie=UTF8&reviewerType=all_reviews',\n",
       " 'B07YLJ2X55': '/CeraVe-Moisturizing-Pramoxine-Hydrochloride-Fragrance/product-reviews/B07YLJ2X55/ref=cm_cr_dp_d_show_all_btm?ie=UTF8&reviewerType=all_reviews',\n",
       " 'B000UBN5S8': '/Gloves-Bottle-Shielding-Lotion-8-Ounce/product-reviews/B000UBN5S8/ref=cm_cr_dp_d_show_all_btm?ie=UTF8&reviewerType=all_reviews',\n",
       " 'B018233T04': '/Adamia-Therapeutic-Repair-Macadamia-Promega-7/product-reviews/B018233T04/ref=cm_cr_dp_d_show_all_btm?ie=UTF8&reviewerType=all_reviews',\n",
       " 'B0046OFO3Y': '/Cur%C3%A9l-Defense-Calming-Lotion-Ounces/product-reviews/B0046OFO3Y/ref=cm_cr_dp_d_show_all_btm?ie=UTF8&reviewerType=all_reviews',\n",
       " 'B00119XXPI': '/Vaseline-Intensive-Lotion-Cocoa-Radiant/product-reviews/B00119XXPI/ref=cm_cr_dp_d_show_all_btm?ie=UTF8&reviewerType=all_reviews',\n",
       " 'B0013OJUY4': '/Aveeno-Moisturizing-Sensitive-Unscented-Therapeutic/product-reviews/B0013OJUY4/ref=cm_cr_dp_d_show_all_btm?ie=UTF8&reviewerType=all_reviews',\n",
       " 'B0063I3M5I': '/ShiKai-Plant-Based-Moisturizing-Irritated-Non-Greasy/product-reviews/B0063I3M5I/ref=cm_cr_dp_d_show_all_btm?ie=UTF8&reviewerType=all_reviews',\n",
       " 'B00FAUS1HY': '/Advanced-Clinicals-Coconut-Cream-Moisturizing/product-reviews/B00FAUS1HY/ref=cm_cr_dp_d_show_all_btm?ie=UTF8&reviewerType=all_reviews',\n",
       " 'B07GC88JBC': '/Aveeno-Moisturizing-Sensitive-Unscented-Therapeutic/product-reviews/B07GC88JBC/ref=cm_cr_dp_d_show_all_btm?ie=UTF8&reviewerType=all_reviews',\n",
       " 'B07GVPCGJK': '/Gold-Bond-Ultimate-Overnight-Moisturizing/product-reviews/B07GVPCGJK/ref=cm_cr_dp_d_show_all_btm?ie=UTF8&reviewerType=all_reviews',\n",
       " 'B001G7PLZ0': '/Olay-Quench-Lotion-Moisture-Vitamins/product-reviews/B001G7PLZ0/ref=cm_cr_dp_d_show_all_btm?ie=UTF8&reviewerType=all_reviews',\n",
       " 'B00DEX61A8': '/Men-Maximum-Hydration-Nourishing-Lotion/product-reviews/B00DEX61A8/ref=cm_cr_dp_d_show_all_btm?ie=UTF8&reviewerType=all_reviews',\n",
       " 'B00DG8F02Q': '/NIVEA-Shea-Daily-Moisture-Lotion/product-reviews/B00DG8F02Q/ref=cm_cr_dp_d_show_all_btm?ie=UTF8&reviewerType=all_reviews',\n",
       " 'B008B9L6WS': '/Gold-Bond-Ultimate-Healing-Therapy/product-reviews/B008B9L6WS/ref=cm_cr_dp_d_show_all_btm?ie=UTF8&reviewerType=all_reviews',\n",
       " 'B07SJVNJRL': '/Amazon-Brand-Solimo-Extra-Dry-Vitamins/product-reviews/B07SJVNJRL/ref=cm_cr_dp_d_show_all_btm?ie=UTF8&reviewerType=all_reviews',\n",
       " 'B0009F3O8Q': '/Palmers-Butter-Formula-Therapy-Moisturization/product-reviews/B0009F3O8Q/ref=cm_cr_dp_d_show_all_btm?ie=UTF8&reviewerType=all_reviews',\n",
       " 'B07QYWKLKP': '/Aquaphor-Healing-Ointment-Moisturizing-Protectant/product-reviews/B07QYWKLKP/ref=cm_cr_dp_d_show_all_btm?ie=UTF8&reviewerType=all_reviews',\n",
       " 'B01GPWPJOS': '/Cur%C3%83l-Hydra-Therapy-Moisturizer-Extra-Dry/product-reviews/B01GPWPJOS/ref=cm_cr_dp_d_show_all_btm?ie=UTF8&reviewerType=all_reviews',\n",
       " 'B001PBOKRM': '/Jergens-Original-Moisturizer-Cherry-Essence/product-reviews/B001PBOKRM/ref=cm_cr_dp_d_show_all_btm?ie=UTF8&reviewerType=all_reviews',\n",
       " 'B004XZHR4K': '/Aveeno-Moisturizing-Sensitive-Unscented-Therapeutic/product-reviews/B004XZHR4K/ref=cm_cr_dp_d_show_all_btm?ie=UTF8&reviewerType=all_reviews',\n",
       " 'B01B12KCGC': '/Organic-Lavender-Grapeseed-Vitamin-Moisturizer/product-reviews/B01B12KCGC/ref=cm_cr_dp_d_show_all_btm?ie=UTF8&reviewerType=all_reviews',\n",
       " 'B0107QOYIK': '/Eucerin-Skin-Calming-Lotion-Enriched/product-reviews/B0107QOYIK/ref=cm_cr_dp_d_show_all_btm?ie=UTF8&reviewerType=all_reviews',\n",
       " 'B00143UYJE': '/Alba-Botanica-Emollient-Maximum-Lotion/product-reviews/B00143UYJE/ref=cm_cr_dp_d_show_all_btm?ie=UTF8&reviewerType=all_reviews',\n",
       " 'B07SS6BN5X': '/Amazon-Brand-Solimo-Lotion-Fluid/product-reviews/B07SS6BN5X/ref=cm_cr_dp_d_show_all_btm?ie=UTF8&reviewerType=all_reviews',\n",
       " 'B074MFDJRG': '/Gold-Bond-Ultimate-Radiance-Renewal/product-reviews/B074MFDJRG/ref=cm_cr_dp_d_show_all_btm?ie=UTF8&reviewerType=all_reviews'}"
      ]
     },
     "execution_count": 61,
     "metadata": {},
     "output_type": "execute_result"
    }
   ],
   "source": [
    "fn = '10-06-2020_23-43-11_product_review_link'\n",
    "with open('../data/%s.pkl' %fn, 'rb') as f:\n",
    "    data = pickle.load(f)\n",
    "    \n",
    "# Get all the ASINS\n",
    "links = data['review_link']\n",
    "links"
   ]
  },
  {
   "cell_type": "code",
   "execution_count": null,
   "metadata": {},
   "outputs": [],
   "source": [
    "# # hack the link\n",
    "# # Find a particlar review page link and put it here\n",
    "# links=['/Lacto-Calamine-Daily-Lotion-Balance/product-reviews/B00EH99VY6/ref=cm_cr_dp_d_show_all_btm?ie=UTF8&amp;reviewerType=all_reviews']"
   ]
  },
  {
   "cell_type": "markdown",
   "metadata": {},
   "source": [
    "### Extract all the reivew and rating for each products"
   ]
  },
  {
   "cell_type": "code",
   "execution_count": 43,
   "metadata": {
    "scrolled": true
   },
   "outputs": [
    {
     "name": "stderr",
     "output_type": "stream",
     "text": [
      "/Users/johnnyh/opt/miniconda3/envs/scraping/lib/python3.6/site-packages/ipykernel_launcher.py:33: TqdmDeprecationWarning: This function will be removed in tqdm==5.0.0\n",
      "Please use `tqdm.notebook.tqdm` instead of `tqdm.tqdm_notebook`\n"
     ]
    },
    {
     "data": {
      "application/vnd.jupyter.widget-view+json": {
       "model_id": "78300bc3627546b29bd28db8e5e65c8c",
       "version_major": 2,
       "version_minor": 0
      },
      "text/plain": [
       "HBox(children=(FloatProgress(value=1.0, bar_style='info', max=1.0), HTML(value='')))"
      ]
     },
     "metadata": {},
     "output_type": "display_data"
    },
    {
     "name": "stdout",
     "output_type": "stream",
     "text": [
      "https://www.amazon.com//Cetaphil-Advance-Hydrating-Lotion-Sensitive/product-reviews/B00352MHE2/ref=cm_cr_dp_d_show_all_btm?ie=UTF8&reviewerType=all_reviews&pageNumber=1\n",
      "https://www.amazon.com//Eucerin-Original-Healing-Lotion-packaging/product-reviews/B00BPF3LN2/ref=cm_cr_dp_d_show_all_btm?ie=UTF8&reviewerType=all_reviews&pageNumber=1\n",
      "https://www.amazon.com//Eucerin-Hydration-Spectrum-Lotion-Packaging/product-reviews/B00AYSUKTE/ref=cm_cr_dp_d_show_all_btm?ie=UTF8&reviewerType=all_reviews&pageNumber=1\n",
      "https://www.amazon.com//Eucerin-Intensive-Repair-Lotion-Bottle/product-reviews/B000XY9LT4/ref=cm_cr_dp_d_show_all_btm?ie=UTF8&reviewerType=all_reviews&pageNumber=1\n",
      "https://www.amazon.com//Aveeno-Moisturizing-Soothing-Emollients-Fragrance-Free/product-reviews/B001459IEE/ref=cm_cr_dp_d_show_all_btm?ie=UTF8&reviewerType=all_reviews&pageNumber=1\n",
      "\n"
     ]
    }
   ],
   "source": [
    "def get_review_img(url_base, query):\n",
    "    url=\"%s%s\" %(url_base, query)\n",
    "    page=requests.get(url,headers=header)\n",
    "    if page.status_code==200:\n",
    "        return page, url\n",
    "    else:\n",
    "        return \"Error\" \n",
    "\n",
    "sites = {\n",
    "    'amazon.in':{\n",
    "        'url_base': \"https://www.amazon.in/\",\n",
    "    },\n",
    "    'amazon.com':{\n",
    "        'url_base': \"https://www.amazon.com/\",\n",
    "    },\n",
    "}\n",
    "    \n",
    "    \n",
    "# ------------------------- custom parameters\n",
    "npages = 10 # number of page of reviews to visit\n",
    "site = sites['amazon.com']\n",
    "\n",
    "\n",
    "# ------------------------- Start\n",
    "# lists to store different information\n",
    "asins = []\n",
    "products = [] # product names\n",
    "reviews = [] # reviews of the products\n",
    "ratings = [] # rating of a product of a review\n",
    "img_links = [] # all the image links related to a review\n",
    "\n",
    "# for k in range(len(links)): \n",
    "for k, asin in tqdm(enumerate(links.keys())):\n",
    "    for i in range(1, npages):   \n",
    "        try:\n",
    "            # Construct the bf4\n",
    "            response, url=get_review_img(site['url_base'], links[asin]+'&pageNumber='+str(i))\n",
    "            soup=BeautifulSoup(response.content, 'lxml')\n",
    "            \n",
    "            # check\n",
    "            if i==1:\n",
    "                print(url)\n",
    "\n",
    "            # Get the product name\n",
    "            pn = soup.find(\"a\", attrs={'data-hook':'product-link'}).text\n",
    "\n",
    "            # Get each review for this particular product\n",
    "            for review in soup.findAll(\"div\", attrs={'data-hook':'review'}):\n",
    "                # identify if a review contains any image. If so, then we will\n",
    "                # save the image(s) and assign ids to images\n",
    "                imgs = review.findAll(\"img\", attrs={'class':'review-image-tile'})\n",
    "                if len(imgs) > 0:\n",
    "                    # get the review text\n",
    "                    text = review.find(\"span\", attrs={'data-hook':'review-body'}).text.replace('\\n',\"\")\n",
    "\n",
    "                    # get the rating\n",
    "                    rating = review.find(\"i\", attrs={'data-hook':\"review-star-rating\"}).text\n",
    "\n",
    "                    # get the image link (I don't save the images for now since it will take time).\n",
    "                    # As long as we get the image links, we can write another function to read the csv\n",
    "                    # and save the images somewhere\n",
    "                    ilinks = [img['src'].replace(\"._SY88\", \"\") for img in imgs]\n",
    "                    ilinks = \",\".join(ilinks)\n",
    "\n",
    "                    # append\n",
    "                    asins.append(asin)\n",
    "                    products.append(pn)\n",
    "                    reviews.append(text)\n",
    "                    ratings.append(rating)\n",
    "                    img_links.append(ilinks)\n",
    "        except:\n",
    "            print(\"Failed to get the review and images for this ASIN (%s) in this page (%s)\" %(asin, i))\n"
   ]
  },
  {
   "cell_type": "markdown",
   "metadata": {},
   "source": [
    "### save the information into pandas and then into csv\n",
    "- you should see a new file created in the data/ folder"
   ]
  },
  {
   "cell_type": "code",
   "execution_count": 44,
   "metadata": {},
   "outputs": [],
   "source": [
    "from datetime import datetime"
   ]
  },
  {
   "cell_type": "code",
   "execution_count": 57,
   "metadata": {},
   "outputs": [
    {
     "ename": "ValueError",
     "evalue": "arrays must all be same length",
     "output_type": "error",
     "traceback": [
      "\u001b[0;31m---------------------------------------\u001b[0m",
      "\u001b[0;31mValueError\u001b[0mTraceback (most recent call last)",
      "\u001b[0;32m<ipython-input-57-80f62aca1f98>\u001b[0m in \u001b[0;36m<module>\u001b[0;34m\u001b[0m\n\u001b[1;32m      5\u001b[0m                    \u001b[0;34m'review'\u001b[0m\u001b[0;34m:\u001b[0m \u001b[0mreviews\u001b[0m\u001b[0;34m,\u001b[0m\u001b[0;34m\u001b[0m\u001b[0;34m\u001b[0m\u001b[0m\n\u001b[1;32m      6\u001b[0m                    \u001b[0;34m'rating'\u001b[0m\u001b[0;34m:\u001b[0m \u001b[0mratings\u001b[0m\u001b[0;34m,\u001b[0m\u001b[0;34m\u001b[0m\u001b[0;34m\u001b[0m\u001b[0m\n\u001b[0;32m----> 7\u001b[0;31m                    \u001b[0;34m'img_link'\u001b[0m\u001b[0;34m:\u001b[0m \u001b[0mimg_links\u001b[0m\u001b[0;34m\u001b[0m\u001b[0;34m\u001b[0m\u001b[0m\n\u001b[0m\u001b[1;32m      8\u001b[0m                   })\n\u001b[1;32m      9\u001b[0m \u001b[0mskin_type\u001b[0m \u001b[0;34m=\u001b[0m \u001b[0;34m'dry'\u001b[0m\u001b[0;34m\u001b[0m\u001b[0;34m\u001b[0m\u001b[0m\n",
      "\u001b[0;32m~/opt/miniconda3/envs/scraping/lib/python3.6/site-packages/pandas/core/frame.py\u001b[0m in \u001b[0;36m__init__\u001b[0;34m(self, data, index, columns, dtype, copy)\u001b[0m\n\u001b[1;32m    433\u001b[0m             )\n\u001b[1;32m    434\u001b[0m         \u001b[0;32melif\u001b[0m \u001b[0misinstance\u001b[0m\u001b[0;34m(\u001b[0m\u001b[0mdata\u001b[0m\u001b[0;34m,\u001b[0m \u001b[0mdict\u001b[0m\u001b[0;34m)\u001b[0m\u001b[0;34m:\u001b[0m\u001b[0;34m\u001b[0m\u001b[0;34m\u001b[0m\u001b[0m\n\u001b[0;32m--> 435\u001b[0;31m             \u001b[0mmgr\u001b[0m \u001b[0;34m=\u001b[0m \u001b[0minit_dict\u001b[0m\u001b[0;34m(\u001b[0m\u001b[0mdata\u001b[0m\u001b[0;34m,\u001b[0m \u001b[0mindex\u001b[0m\u001b[0;34m,\u001b[0m \u001b[0mcolumns\u001b[0m\u001b[0;34m,\u001b[0m \u001b[0mdtype\u001b[0m\u001b[0;34m=\u001b[0m\u001b[0mdtype\u001b[0m\u001b[0;34m)\u001b[0m\u001b[0;34m\u001b[0m\u001b[0;34m\u001b[0m\u001b[0m\n\u001b[0m\u001b[1;32m    436\u001b[0m         \u001b[0;32melif\u001b[0m \u001b[0misinstance\u001b[0m\u001b[0;34m(\u001b[0m\u001b[0mdata\u001b[0m\u001b[0;34m,\u001b[0m \u001b[0mma\u001b[0m\u001b[0;34m.\u001b[0m\u001b[0mMaskedArray\u001b[0m\u001b[0;34m)\u001b[0m\u001b[0;34m:\u001b[0m\u001b[0;34m\u001b[0m\u001b[0;34m\u001b[0m\u001b[0m\n\u001b[1;32m    437\u001b[0m             \u001b[0;32mimport\u001b[0m \u001b[0mnumpy\u001b[0m\u001b[0;34m.\u001b[0m\u001b[0mma\u001b[0m\u001b[0;34m.\u001b[0m\u001b[0mmrecords\u001b[0m \u001b[0;32mas\u001b[0m \u001b[0mmrecords\u001b[0m\u001b[0;34m\u001b[0m\u001b[0;34m\u001b[0m\u001b[0m\n",
      "\u001b[0;32m~/opt/miniconda3/envs/scraping/lib/python3.6/site-packages/pandas/core/internals/construction.py\u001b[0m in \u001b[0;36minit_dict\u001b[0;34m(data, index, columns, dtype)\u001b[0m\n\u001b[1;32m    252\u001b[0m             \u001b[0marr\u001b[0m \u001b[0;32mif\u001b[0m \u001b[0;32mnot\u001b[0m \u001b[0mis_datetime64tz_dtype\u001b[0m\u001b[0;34m(\u001b[0m\u001b[0marr\u001b[0m\u001b[0;34m)\u001b[0m \u001b[0;32melse\u001b[0m \u001b[0marr\u001b[0m\u001b[0;34m.\u001b[0m\u001b[0mcopy\u001b[0m\u001b[0;34m(\u001b[0m\u001b[0;34m)\u001b[0m \u001b[0;32mfor\u001b[0m \u001b[0marr\u001b[0m \u001b[0;32min\u001b[0m \u001b[0marrays\u001b[0m\u001b[0;34m\u001b[0m\u001b[0;34m\u001b[0m\u001b[0m\n\u001b[1;32m    253\u001b[0m         ]\n\u001b[0;32m--> 254\u001b[0;31m     \u001b[0;32mreturn\u001b[0m \u001b[0marrays_to_mgr\u001b[0m\u001b[0;34m(\u001b[0m\u001b[0marrays\u001b[0m\u001b[0;34m,\u001b[0m \u001b[0mdata_names\u001b[0m\u001b[0;34m,\u001b[0m \u001b[0mindex\u001b[0m\u001b[0;34m,\u001b[0m \u001b[0mcolumns\u001b[0m\u001b[0;34m,\u001b[0m \u001b[0mdtype\u001b[0m\u001b[0;34m=\u001b[0m\u001b[0mdtype\u001b[0m\u001b[0;34m)\u001b[0m\u001b[0;34m\u001b[0m\u001b[0;34m\u001b[0m\u001b[0m\n\u001b[0m\u001b[1;32m    255\u001b[0m \u001b[0;34m\u001b[0m\u001b[0m\n\u001b[1;32m    256\u001b[0m \u001b[0;34m\u001b[0m\u001b[0m\n",
      "\u001b[0;32m~/opt/miniconda3/envs/scraping/lib/python3.6/site-packages/pandas/core/internals/construction.py\u001b[0m in \u001b[0;36marrays_to_mgr\u001b[0;34m(arrays, arr_names, index, columns, dtype)\u001b[0m\n\u001b[1;32m     62\u001b[0m     \u001b[0;31m# figure out the index, if necessary\u001b[0m\u001b[0;34m\u001b[0m\u001b[0;34m\u001b[0m\u001b[0;34m\u001b[0m\u001b[0m\n\u001b[1;32m     63\u001b[0m     \u001b[0;32mif\u001b[0m \u001b[0mindex\u001b[0m \u001b[0;32mis\u001b[0m \u001b[0;32mNone\u001b[0m\u001b[0;34m:\u001b[0m\u001b[0;34m\u001b[0m\u001b[0;34m\u001b[0m\u001b[0m\n\u001b[0;32m---> 64\u001b[0;31m         \u001b[0mindex\u001b[0m \u001b[0;34m=\u001b[0m \u001b[0mextract_index\u001b[0m\u001b[0;34m(\u001b[0m\u001b[0marrays\u001b[0m\u001b[0;34m)\u001b[0m\u001b[0;34m\u001b[0m\u001b[0;34m\u001b[0m\u001b[0m\n\u001b[0m\u001b[1;32m     65\u001b[0m     \u001b[0;32melse\u001b[0m\u001b[0;34m:\u001b[0m\u001b[0;34m\u001b[0m\u001b[0;34m\u001b[0m\u001b[0m\n\u001b[1;32m     66\u001b[0m         \u001b[0mindex\u001b[0m \u001b[0;34m=\u001b[0m \u001b[0mensure_index\u001b[0m\u001b[0;34m(\u001b[0m\u001b[0mindex\u001b[0m\u001b[0;34m)\u001b[0m\u001b[0;34m\u001b[0m\u001b[0;34m\u001b[0m\u001b[0m\n",
      "\u001b[0;32m~/opt/miniconda3/envs/scraping/lib/python3.6/site-packages/pandas/core/internals/construction.py\u001b[0m in \u001b[0;36mextract_index\u001b[0;34m(data)\u001b[0m\n\u001b[1;32m    363\u001b[0m             \u001b[0mlengths\u001b[0m \u001b[0;34m=\u001b[0m \u001b[0mlist\u001b[0m\u001b[0;34m(\u001b[0m\u001b[0mset\u001b[0m\u001b[0;34m(\u001b[0m\u001b[0mraw_lengths\u001b[0m\u001b[0;34m)\u001b[0m\u001b[0;34m)\u001b[0m\u001b[0;34m\u001b[0m\u001b[0;34m\u001b[0m\u001b[0m\n\u001b[1;32m    364\u001b[0m             \u001b[0;32mif\u001b[0m \u001b[0mlen\u001b[0m\u001b[0;34m(\u001b[0m\u001b[0mlengths\u001b[0m\u001b[0;34m)\u001b[0m \u001b[0;34m>\u001b[0m \u001b[0;36m1\u001b[0m\u001b[0;34m:\u001b[0m\u001b[0;34m\u001b[0m\u001b[0;34m\u001b[0m\u001b[0m\n\u001b[0;32m--> 365\u001b[0;31m                 \u001b[0;32mraise\u001b[0m \u001b[0mValueError\u001b[0m\u001b[0;34m(\u001b[0m\u001b[0;34m\"arrays must all be same length\"\u001b[0m\u001b[0;34m)\u001b[0m\u001b[0;34m\u001b[0m\u001b[0;34m\u001b[0m\u001b[0m\n\u001b[0m\u001b[1;32m    366\u001b[0m \u001b[0;34m\u001b[0m\u001b[0m\n\u001b[1;32m    367\u001b[0m             \u001b[0;32mif\u001b[0m \u001b[0mhave_dicts\u001b[0m\u001b[0;34m:\u001b[0m\u001b[0;34m\u001b[0m\u001b[0;34m\u001b[0m\u001b[0m\n",
      "\u001b[0;31mValueError\u001b[0m: arrays must all be same length"
     ]
    }
   ],
   "source": [
    "# Constructe the data frame\n",
    "df = pd.DataFrame({'pid': list(range(0, len(asins))),\n",
    "                    'ASIN': asins,\n",
    "                    'product_name':products,\n",
    "                   'review': reviews,\n",
    "                   'rating': ratings,\n",
    "                   'img_link': img_links\n",
    "                  })\n",
    "df['skin_type'] = skin_type\n",
    "df.head()"
   ]
  },
  {
   "cell_type": "code",
   "execution_count": 40,
   "metadata": {},
   "outputs": [],
   "source": [
    "# save\n",
    "dt = datetime.now().strftime(\"%d-%m-%Y_%H-%M-%S\")\n",
    "df.to_csv('../data/%s_amazon_review_with_image.csv' %dt)\n"
   ]
  },
  {
   "cell_type": "code",
   "execution_count": 41,
   "metadata": {},
   "outputs": [
    {
     "data": {
      "text/plain": [
       "13"
      ]
     },
     "execution_count": 41,
     "metadata": {},
     "output_type": "execute_result"
    }
   ],
   "source": [
    "len(img_links)"
   ]
  },
  {
   "cell_type": "code",
   "execution_count": null,
   "metadata": {},
   "outputs": [],
   "source": []
  }
 ],
 "metadata": {
  "kernelspec": {
   "display_name": "Python 3",
   "language": "python",
   "name": "python3"
  },
  "language_info": {
   "codemirror_mode": {
    "name": "ipython",
    "version": 3
   },
   "file_extension": ".py",
   "mimetype": "text/x-python",
   "name": "python",
   "nbconvert_exporter": "python",
   "pygments_lexer": "ipython3",
   "version": "3.8.2"
  }
 },
 "nbformat": 4,
 "nbformat_minor": 4
}
