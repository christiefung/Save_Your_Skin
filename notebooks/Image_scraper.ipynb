{
 "cells": [
  {
   "cell_type": "markdown",
   "metadata": {},
   "source": [
    "# Image scraper \n",
    "- Reference: https://gist.github.com/genekogan/ebd77196e4bf0705db51f86431099e57"
   ]
  },
  {
   "cell_type": "code",
   "execution_count": null,
   "metadata": {},
   "outputs": [],
   "source": [
    "from selenium import webdriver\n",
    "from selenium.webdriver.common.keys import Keys\n",
    "import json\n",
    "import os\n",
    "import urllib3\n",
    "import argparse\n",
    "import urllib.request\n",
    "\n",
    "url = 'https://www.google.com/search?q=oily+skin+pores&tbm=isch&ved=2ahUKEwiKhujB6vDpAhUVIX0KHfgVAw0Q2-cCegQIABAA&oq=oily+skin+pores&gs_lcp=CgNpbWcQAzICCAAyBggAEAUQHjIGCAAQCBAeMgYIABAIEB4yBggAEAgQHjIGCAAQCBAeMgYIABAIEB4yBggAEAgQHjIGCAAQCBAeMgYIABAIEB46BAgjECc6BAgAEEM6BQgAELEDOgUIABCDAToHCAAQsQMQQ1DqiAFYmZcBYL6ZAWgAcAB4AIABVIgBggmSAQIxNZgBAKABAaoBC2d3cy13aXotaW1n&sclient=img&ei=2XTdXsq1F5XC9AP4q4xo&bih=842&biw=1052&hl=en'\n",
    "browser = webdriver.Chrome('/Users/ChristieFung/Desktop/Insight/skin_care_scraper-2/chromedriver')\n",
    "browser.get(url)\n",
    "header={'User-Agent':\"Chrome/83.0.4103.61\"}\n",
    "counter = 0\n",
    "succounter = 0\n",
    "\n",
    "print(\"start scrolling to generate more images on the page...\")\n",
    "# 500 time we scroll down by 10000 in order to generate more images on the website\n",
    "for _ in range(1000):\n",
    "    browser.execute_script(\"window.scrollBy(0,5000)\")\n",
    "\n",
    "print(\"start scraping ...\")\n",
    "for x in browser.find_elements_by_xpath('//img[contains(@class,\"rg_i Q4LuWd tx8vtf\")]'):\n",
    "    counter = counter + 1\n",
    "    print(\"Total Count:\", counter)\n",
    "    print(\"Succsessful Count:\", succounter)\n",
    "    print(\"URL:\", x.get_attribute('src'))\n",
    "\n",
    "    img = x.get_attribute('src')\n",
    "    new_filename = \"image\"+str(counter)+\".jpg\"\n",
    "\n",
    "    try:\n",
    "        path = '/Users/ChristieFung/Desktop/Insight/skin_care_scraper-2/oily_face'\n",
    "        path += new_filename\n",
    "        urllib.request.urlretrieve(img, path)\n",
    "        succounter += 1\n",
    "    except Exception as e:\n",
    "        print(e)\n",
    "\n",
    "print(succounter, \"pictures succesfully downloaded\")\n",
    "browser.close()"
   ]
  }
 ],
 "metadata": {
  "kernelspec": {
   "display_name": "Python 3",
   "language": "python",
   "name": "python3"
  },
  "language_info": {
   "codemirror_mode": {
    "name": "ipython",
    "version": 3
   },
   "file_extension": ".py",
   "mimetype": "text/x-python",
   "name": "python",
   "nbconvert_exporter": "python",
   "pygments_lexer": "ipython3",
   "version": "3.8.2"
  }
 },
 "nbformat": 4,
 "nbformat_minor": 4
}
